{
 "cells": [
  {
   "cell_type": "markdown",
   "metadata": {},
   "source": [
    "Project: Investigate a Dataset (No Show Appointment)\n",
    "Table of Contents\n",
    "Introduction\n",
    "Data Wrangling\n",
    "Exploratory Data Analysis\n",
    "Conclusions\n",
    "\n",
    "## Introduction\n",
    "\n",
    ">## Overview\n",
    ">To complete my Data Analysis project I am using No Show Appointment dataset. \n",
    "\n",
    ">This data set contains information from 100k medical appointments in Brazil and is focused on the question of whether or not patients show up for their appointment. Several characteristics like 'ScheduleDay'- appointment day, Age of patient,'Neighbourhood' indicating the location of the hospital, Scholorship  indiacting the enrolment of the patient in the Brasilian Welfare program.\n",
    "\n",
    "We must be careful \"No-show\" column contain. It says 'No' means patient showed up and 'Yes' means he did not up. \n",
    "\n",
    "## Question that can be analysed from this data set**\n",
    "1. Impact of Week Days on Patient show-up.\n",
    "2. Week Days with highest No Show Rate. \n",
    "3. Impact of month on Patient show-up count.\n",
    "4. Disease with highest No Show rate.\n",
    "5. Month with highest No Show Rate.\n",
    "6. Impact of age group on Patient No show rate.\n",
    "7. Impact of Gender on Patient No show rate.\n"
   ]
  },
  {
   "cell_type": "code",
   "execution_count": 31,
   "metadata": {},
   "outputs": [
    {
     "data": {
      "text/html": [
       "        <script type=\"text/javascript\">\n",
       "        window.PlotlyConfig = {MathJaxConfig: 'local'};\n",
       "        if (window.MathJax) {MathJax.Hub.Config({SVG: {font: \"STIX-Web\"}});}\n",
       "        if (typeof require !== 'undefined') {\n",
       "        require.undef(\"plotly\");\n",
       "        requirejs.config({\n",
       "            paths: {\n",
       "                'plotly': ['https://cdn.plot.ly/plotly-latest.min']\n",
       "            }\n",
       "        });\n",
       "        require(['plotly'], function(Plotly) {\n",
       "            window._Plotly = Plotly;\n",
       "        });\n",
       "        }\n",
       "        </script>\n",
       "        "
      ]
     },
     "metadata": {},
     "output_type": "display_data"
    }
   ],
   "source": [
    "# Load your data and print out a few lines. Perform operations to inspect data\n",
    "# types and look for instances of missing or possibly errant data.\n",
    "\n",
    "#loading the csv file and storing it in the variable \"tmbd_data\"\n",
    "#printing first five rows with defined columns of tmdb-movies database\n",
    "# Let’s start....\n",
    "# First, we will import the important packages that we will need in this analysis.\n",
    "\n",
    "import pandas as pd\n",
    "import datetime as dt\n",
    "import numpy as np\n",
    "import arrow as arrow\n",
    "import matplotlib.pyplot as plot\n",
    "import seaborn as sns\n",
    "\n",
    "from plotly.offline import init_notebook_mode,iplot,iplot_mpl,download_plotlyjs,enable_mpl_offline\n",
    "import plotly.graph_objs as go\n",
    "init_notebook_mode(connected=True)\n",
    "\n",
    "%matplotlib inline"
   ]
  },
  {
   "cell_type": "markdown",
   "metadata": {},
   "source": [
    "## Data Wrangling\n",
    "\n",
    "> After observing the dataset and proposed questions for the analysis we will be keeping only relevent data deleting the unsued data so that we can make our calculation easy and understandable. "
   ]
  },
  {
   "cell_type": "code",
   "execution_count": 32,
   "metadata": {},
   "outputs": [
    {
     "data": {
      "text/html": [
       "<div>\n",
       "<style scoped>\n",
       "    .dataframe tbody tr th:only-of-type {\n",
       "        vertical-align: middle;\n",
       "    }\n",
       "\n",
       "    .dataframe tbody tr th {\n",
       "        vertical-align: top;\n",
       "    }\n",
       "\n",
       "    .dataframe thead th {\n",
       "        text-align: right;\n",
       "    }\n",
       "</style>\n",
       "<table border=\"1\" class=\"dataframe\">\n",
       "  <thead>\n",
       "    <tr style=\"text-align: right;\">\n",
       "      <th></th>\n",
       "      <th>PatientId</th>\n",
       "      <th>AppointmentID</th>\n",
       "      <th>Gender</th>\n",
       "      <th>ScheduledDay</th>\n",
       "      <th>AppointmentDay</th>\n",
       "      <th>Age</th>\n",
       "      <th>Neighbourhood</th>\n",
       "      <th>Scholarship</th>\n",
       "      <th>Hipertension</th>\n",
       "      <th>Diabetes</th>\n",
       "      <th>Alcoholism</th>\n",
       "      <th>Handcap</th>\n",
       "      <th>SMS_received</th>\n",
       "      <th>No-show</th>\n",
       "    </tr>\n",
       "  </thead>\n",
       "  <tbody>\n",
       "    <tr>\n",
       "      <th>0</th>\n",
       "      <td>2.987250e+13</td>\n",
       "      <td>5642903</td>\n",
       "      <td>F</td>\n",
       "      <td>2016-04-29T18:38:08Z</td>\n",
       "      <td>2016-04-29T00:00:00Z</td>\n",
       "      <td>62</td>\n",
       "      <td>JARDIM DA PENHA</td>\n",
       "      <td>0</td>\n",
       "      <td>1</td>\n",
       "      <td>0</td>\n",
       "      <td>0</td>\n",
       "      <td>0</td>\n",
       "      <td>0</td>\n",
       "      <td>No</td>\n",
       "    </tr>\n",
       "    <tr>\n",
       "      <th>1</th>\n",
       "      <td>5.589978e+14</td>\n",
       "      <td>5642503</td>\n",
       "      <td>M</td>\n",
       "      <td>2016-04-29T16:08:27Z</td>\n",
       "      <td>2016-04-29T00:00:00Z</td>\n",
       "      <td>56</td>\n",
       "      <td>JARDIM DA PENHA</td>\n",
       "      <td>0</td>\n",
       "      <td>0</td>\n",
       "      <td>0</td>\n",
       "      <td>0</td>\n",
       "      <td>0</td>\n",
       "      <td>0</td>\n",
       "      <td>No</td>\n",
       "    </tr>\n",
       "    <tr>\n",
       "      <th>2</th>\n",
       "      <td>4.262962e+12</td>\n",
       "      <td>5642549</td>\n",
       "      <td>F</td>\n",
       "      <td>2016-04-29T16:19:04Z</td>\n",
       "      <td>2016-04-29T00:00:00Z</td>\n",
       "      <td>62</td>\n",
       "      <td>MATA DA PRAIA</td>\n",
       "      <td>0</td>\n",
       "      <td>0</td>\n",
       "      <td>0</td>\n",
       "      <td>0</td>\n",
       "      <td>0</td>\n",
       "      <td>0</td>\n",
       "      <td>No</td>\n",
       "    </tr>\n",
       "    <tr>\n",
       "      <th>3</th>\n",
       "      <td>8.679512e+11</td>\n",
       "      <td>5642828</td>\n",
       "      <td>F</td>\n",
       "      <td>2016-04-29T17:29:31Z</td>\n",
       "      <td>2016-04-29T00:00:00Z</td>\n",
       "      <td>8</td>\n",
       "      <td>PONTAL DE CAMBURI</td>\n",
       "      <td>0</td>\n",
       "      <td>0</td>\n",
       "      <td>0</td>\n",
       "      <td>0</td>\n",
       "      <td>0</td>\n",
       "      <td>0</td>\n",
       "      <td>No</td>\n",
       "    </tr>\n",
       "    <tr>\n",
       "      <th>4</th>\n",
       "      <td>8.841186e+12</td>\n",
       "      <td>5642494</td>\n",
       "      <td>F</td>\n",
       "      <td>2016-04-29T16:07:23Z</td>\n",
       "      <td>2016-04-29T00:00:00Z</td>\n",
       "      <td>56</td>\n",
       "      <td>JARDIM DA PENHA</td>\n",
       "      <td>0</td>\n",
       "      <td>1</td>\n",
       "      <td>1</td>\n",
       "      <td>0</td>\n",
       "      <td>0</td>\n",
       "      <td>0</td>\n",
       "      <td>No</td>\n",
       "    </tr>\n",
       "  </tbody>\n",
       "</table>\n",
       "</div>"
      ],
      "text/plain": [
       "      PatientId  AppointmentID Gender          ScheduledDay  \\\n",
       "0  2.987250e+13        5642903      F  2016-04-29T18:38:08Z   \n",
       "1  5.589978e+14        5642503      M  2016-04-29T16:08:27Z   \n",
       "2  4.262962e+12        5642549      F  2016-04-29T16:19:04Z   \n",
       "3  8.679512e+11        5642828      F  2016-04-29T17:29:31Z   \n",
       "4  8.841186e+12        5642494      F  2016-04-29T16:07:23Z   \n",
       "\n",
       "         AppointmentDay  Age      Neighbourhood  Scholarship  Hipertension  \\\n",
       "0  2016-04-29T00:00:00Z   62    JARDIM DA PENHA            0             1   \n",
       "1  2016-04-29T00:00:00Z   56    JARDIM DA PENHA            0             0   \n",
       "2  2016-04-29T00:00:00Z   62      MATA DA PRAIA            0             0   \n",
       "3  2016-04-29T00:00:00Z    8  PONTAL DE CAMBURI            0             0   \n",
       "4  2016-04-29T00:00:00Z   56    JARDIM DA PENHA            0             1   \n",
       "\n",
       "   Diabetes  Alcoholism  Handcap  SMS_received No-show  \n",
       "0         0           0        0             0      No  \n",
       "1         0           0        0             0      No  \n",
       "2         0           0        0             0      No  \n",
       "3         0           0        0             0      No  \n",
       "4         1           0        0             0      No  "
      ]
     },
     "execution_count": 32,
     "metadata": {},
     "output_type": "execute_result"
    }
   ],
   "source": [
    "##Lets load our data using 'read_csv command of pandas' into noshow variable and display few (2) rows of it.\n",
    "\n",
    "noshow = pd.read_csv ('noshowappointments-kagglev2-may-2016.csv')\n",
    "noshow.head()"
   ]
  },
  {
   "cell_type": "markdown",
   "metadata": {},
   "source": [
    "### Data Cleaning (Removing the unused information from the dataset )\n",
    "\n",
    "> **Important observation regarding this process**\n",
    ">\n",
    "> 1. We need to remove unused column such as ScheduledDay, PatientId, AppointmentID, AppointmentDay etc.\n",
    "> 2. Removing the duplicate rows (if any).\n",
    "> 3. Some patients age is the dataset is 0, that is there value has not been recorded so we will be discarding such entries\n",
    "> 4. Renaming ScheduledDay to Appointment Day and changing its format to datetime and extracting only the date from it.\n",
    "> 5. Correcting the column names like Handcap to Handicap etc..\n",
    "> 6. Rename ScheduledDay to Appointment Day and changing its format to datetime.\n"
   ]
  },
  {
   "cell_type": "code",
   "execution_count": 33,
   "metadata": {},
   "outputs": [
    {
     "data": {
      "text/html": [
       "<div>\n",
       "<style scoped>\n",
       "    .dataframe tbody tr th:only-of-type {\n",
       "        vertical-align: middle;\n",
       "    }\n",
       "\n",
       "    .dataframe tbody tr th {\n",
       "        vertical-align: top;\n",
       "    }\n",
       "\n",
       "    .dataframe thead th {\n",
       "        text-align: right;\n",
       "    }\n",
       "</style>\n",
       "<table border=\"1\" class=\"dataframe\">\n",
       "  <thead>\n",
       "    <tr style=\"text-align: right;\">\n",
       "      <th></th>\n",
       "      <th>Gender</th>\n",
       "      <th>Age</th>\n",
       "      <th>Neighbourhood</th>\n",
       "      <th>Scholarship</th>\n",
       "      <th>HyperTension</th>\n",
       "      <th>Diabetes</th>\n",
       "      <th>Alcoholism</th>\n",
       "      <th>Handicap</th>\n",
       "      <th>SMS_received</th>\n",
       "      <th>No-show</th>\n",
       "      <th>Appointment Day</th>\n",
       "    </tr>\n",
       "  </thead>\n",
       "  <tbody>\n",
       "    <tr>\n",
       "      <th>0</th>\n",
       "      <td>F</td>\n",
       "      <td>62</td>\n",
       "      <td>JARDIM DA PENHA</td>\n",
       "      <td>0</td>\n",
       "      <td>1</td>\n",
       "      <td>0</td>\n",
       "      <td>0</td>\n",
       "      <td>0</td>\n",
       "      <td>0         0\\n1         0\\n2         0\\n3      ...</td>\n",
       "      <td>No</td>\n",
       "      <td>2016-04-29</td>\n",
       "    </tr>\n",
       "    <tr>\n",
       "      <th>1</th>\n",
       "      <td>M</td>\n",
       "      <td>56</td>\n",
       "      <td>JARDIM DA PENHA</td>\n",
       "      <td>0</td>\n",
       "      <td>0</td>\n",
       "      <td>0</td>\n",
       "      <td>0</td>\n",
       "      <td>0</td>\n",
       "      <td>0         0\\n1         0\\n2         0\\n3      ...</td>\n",
       "      <td>No</td>\n",
       "      <td>2016-04-29</td>\n",
       "    </tr>\n",
       "    <tr>\n",
       "      <th>2</th>\n",
       "      <td>F</td>\n",
       "      <td>62</td>\n",
       "      <td>MATA DA PRAIA</td>\n",
       "      <td>0</td>\n",
       "      <td>0</td>\n",
       "      <td>0</td>\n",
       "      <td>0</td>\n",
       "      <td>0</td>\n",
       "      <td>0         0\\n1         0\\n2         0\\n3      ...</td>\n",
       "      <td>No</td>\n",
       "      <td>2016-04-29</td>\n",
       "    </tr>\n",
       "    <tr>\n",
       "      <th>3</th>\n",
       "      <td>F</td>\n",
       "      <td>8</td>\n",
       "      <td>PONTAL DE CAMBURI</td>\n",
       "      <td>0</td>\n",
       "      <td>0</td>\n",
       "      <td>0</td>\n",
       "      <td>0</td>\n",
       "      <td>0</td>\n",
       "      <td>0         0\\n1         0\\n2         0\\n3      ...</td>\n",
       "      <td>No</td>\n",
       "      <td>2016-04-29</td>\n",
       "    </tr>\n",
       "    <tr>\n",
       "      <th>4</th>\n",
       "      <td>F</td>\n",
       "      <td>56</td>\n",
       "      <td>JARDIM DA PENHA</td>\n",
       "      <td>0</td>\n",
       "      <td>1</td>\n",
       "      <td>1</td>\n",
       "      <td>0</td>\n",
       "      <td>0</td>\n",
       "      <td>0         0\\n1         0\\n2         0\\n3      ...</td>\n",
       "      <td>No</td>\n",
       "      <td>2016-04-29</td>\n",
       "    </tr>\n",
       "  </tbody>\n",
       "</table>\n",
       "</div>"
      ],
      "text/plain": [
       "  Gender  Age      Neighbourhood  Scholarship  HyperTension  Diabetes  \\\n",
       "0      F   62    JARDIM DA PENHA            0             1         0   \n",
       "1      M   56    JARDIM DA PENHA            0             0         0   \n",
       "2      F   62      MATA DA PRAIA            0             0         0   \n",
       "3      F    8  PONTAL DE CAMBURI            0             0         0   \n",
       "4      F   56    JARDIM DA PENHA            0             1         1   \n",
       "\n",
       "   Alcoholism  Handicap                                       SMS_received  \\\n",
       "0           0         0  0         0\\n1         0\\n2         0\\n3      ...   \n",
       "1           0         0  0         0\\n1         0\\n2         0\\n3      ...   \n",
       "2           0         0  0         0\\n1         0\\n2         0\\n3      ...   \n",
       "3           0         0  0         0\\n1         0\\n2         0\\n3      ...   \n",
       "4           0         0  0         0\\n1         0\\n2         0\\n3      ...   \n",
       "\n",
       "  No-show Appointment Day  \n",
       "0      No      2016-04-29  \n",
       "1      No      2016-04-29  \n",
       "2      No      2016-04-29  \n",
       "3      No      2016-04-29  \n",
       "4      No      2016-04-29  "
      ]
     },
     "execution_count": 33,
     "metadata": {},
     "output_type": "execute_result"
    }
   ],
   "source": [
    "### Now let's start our cleaning.\n",
    "\n",
    "noshow ['Appointment Day'] = noshow ['ScheduledDay'].astype('datetime64[ns]')\n",
    "noshow ['Appointment Day'] = noshow ['ScheduledDay'].str.split('T').str[0].str.replace('Z','')\n",
    "noshow['SMS_received'] = str(noshow['SMS_received'])\n",
    "noshow.drop(['ScheduledDay','PatientId','AppointmentID','AppointmentDay'],axis=1,inplace=True)\n",
    "noshow.rename(columns={'Hipertension':'HyperTension','Handcap':'Handicap'},inplace=True)\n",
    "noshow.head()"
   ]
  },
  {
   "cell_type": "code",
   "execution_count": 34,
   "metadata": {},
   "outputs": [
    {
     "name": "stdout",
     "output_type": "stream",
     "text": [
      "       Gender  Age        Neighbourhood  Scholarship  HyperTension  Diabetes  \\\n",
      "59          F    0            CONQUISTA            0             0         0   \n",
      "63          M    0         SÃO BENEDITO            0             0         0   \n",
      "64          M    0    ILHA DAS CAIEIRAS            0             0         0   \n",
      "65          M    0            CONQUISTA            0             0         0   \n",
      "67          F    0       NOVA PALESTINA            0             0         0   \n",
      "89          M    0           MONTE BELO            0             0         0   \n",
      "101         M    0               BONFIM            0             0         0   \n",
      "104         F    0        SANTO ANTÔNIO            0             0         0   \n",
      "132         M    0         PRAIA DO SUÁ            0             0         0   \n",
      "150         M    0              ITARARÉ            0             0         0   \n",
      "188         M    0       NOVA PALESTINA            0             0         0   \n",
      "192         M    0            CONQUISTA            0             0         0   \n",
      "193         F    0       NOVA PALESTINA            0             0         0   \n",
      "194         M    0             REDENÇÃO            0             0         0   \n",
      "250         M    0            CARATOÍRA            0             0         0   \n",
      "256         F    0  ARIOVALDO FAVALESSA            0             0         0   \n",
      "266         M    0          MARIA ORTIZ            0             0         0   \n",
      "292         F    0             GURIGICA            0             0         0   \n",
      "305         F    0          JOANA D´ARC            0             0         0   \n",
      "306         M    0         SANTA MARTHA            0             0         0   \n",
      "310         M    0         SANTA MARTHA            0             0         0   \n",
      "358         F    0           CONSOLAÇÃO            0             0         0   \n",
      "359         M    0           CONSOLAÇÃO            0             0         0   \n",
      "366         F    0           CONSOLAÇÃO            0             0         0   \n",
      "377         M    0             DA PENHA            0             0         0   \n",
      "434         F    0    MORADA DE CAMBURI            0             0         0   \n",
      "524         M    0              ITARARÉ            0             0         0   \n",
      "525         F    0              ITARARÉ            0             0         0   \n",
      "526         M    0              ITARARÉ            0             0         0   \n",
      "565         F    0          SANTA LUÍZA            0             0         0   \n",
      "...       ...  ...                  ...          ...           ...       ...   \n",
      "109629      F    0                ROMÃO            0             0         0   \n",
      "109633      F    0                ROMÃO            0             0         0   \n",
      "109646      M    0       FORTE SÃO JOÃO            0             0         0   \n",
      "109647      M    0       FORTE SÃO JOÃO            0             0         0   \n",
      "109649      M    0       FORTE SÃO JOÃO            0             0         0   \n",
      "109650      M    0       FORTE SÃO JOÃO            0             0         0   \n",
      "109830      F    0         SÃO BENEDITO            0             0         0   \n",
      "109847      M    0       NOVA PALESTINA            0             0         0   \n",
      "109848      M    0          RESISTÊNCIA            0             0         0   \n",
      "109852      F    0          RESISTÊNCIA            0             0         0   \n",
      "110231      M    0          RESISTÊNCIA            0             0         0   \n",
      "110235      M    0          RESISTÊNCIA            0             0         0   \n",
      "110236      M    0          RESISTÊNCIA            0             0         0   \n",
      "110299      F    0          RESISTÊNCIA            0             0         0   \n",
      "110313      F    0          RESISTÊNCIA            0             0         0   \n",
      "110319      F    0          RESISTÊNCIA            0             0         0   \n",
      "110320      M    0          RESISTÊNCIA            0             0         0   \n",
      "110321      M    0          RESISTÊNCIA            0             0         0   \n",
      "110331      F    0          RESISTÊNCIA            0             0         0   \n",
      "110334      M    0          RESISTÊNCIA            0             0         0   \n",
      "110335      M    0          RESISTÊNCIA            0             0         0   \n",
      "110339      M    0          RESISTÊNCIA            0             0         0   \n",
      "110341      M    0          RESISTÊNCIA            0             0         0   \n",
      "110342      M    0          RESISTÊNCIA            0             0         0   \n",
      "110343      F    0          RESISTÊNCIA            0             0         0   \n",
      "110345      F    0          RESISTÊNCIA            0             0         0   \n",
      "110346      M    0          RESISTÊNCIA            0             0         0   \n",
      "110454      F    0          RESISTÊNCIA            0             0         0   \n",
      "110460      F    0          RESISTÊNCIA            0             0         0   \n",
      "110507      F    0          MARIA ORTIZ            0             0         0   \n",
      "\n",
      "        Alcoholism  Handicap  \\\n",
      "59               0         0   \n",
      "63               0         0   \n",
      "64               0         0   \n",
      "65               0         0   \n",
      "67               0         0   \n",
      "89               0         0   \n",
      "101              0         0   \n",
      "104              0         0   \n",
      "132              0         0   \n",
      "150              0         0   \n",
      "188              0         0   \n",
      "192              0         0   \n",
      "193              0         0   \n",
      "194              0         0   \n",
      "250              0         0   \n",
      "256              0         0   \n",
      "266              0         0   \n",
      "292              0         0   \n",
      "305              0         0   \n",
      "306              0         0   \n",
      "310              0         0   \n",
      "358              0         0   \n",
      "359              0         0   \n",
      "366              0         0   \n",
      "377              0         0   \n",
      "434              0         0   \n",
      "524              0         0   \n",
      "525              0         0   \n",
      "526              0         0   \n",
      "565              0         0   \n",
      "...            ...       ...   \n",
      "109629           0         0   \n",
      "109633           0         0   \n",
      "109646           0         0   \n",
      "109647           0         0   \n",
      "109649           0         0   \n",
      "109650           0         0   \n",
      "109830           0         0   \n",
      "109847           0         0   \n",
      "109848           0         0   \n",
      "109852           0         0   \n",
      "110231           0         0   \n",
      "110235           0         0   \n",
      "110236           0         0   \n",
      "110299           0         0   \n",
      "110313           0         0   \n",
      "110319           0         0   \n",
      "110320           0         0   \n",
      "110321           0         0   \n",
      "110331           0         0   \n",
      "110334           0         0   \n",
      "110335           0         0   \n",
      "110339           0         0   \n",
      "110341           0         0   \n",
      "110342           0         0   \n",
      "110343           0         0   \n",
      "110345           0         0   \n",
      "110346           0         0   \n",
      "110454           0         0   \n",
      "110460           0         0   \n",
      "110507           0         0   \n",
      "\n",
      "                                             SMS_received No-show  \\\n",
      "59      0         0\\n1         0\\n2         0\\n3      ...      No   \n",
      "63      0         0\\n1         0\\n2         0\\n3      ...      No   \n",
      "64      0         0\\n1         0\\n2         0\\n3      ...      No   \n",
      "65      0         0\\n1         0\\n2         0\\n3      ...      No   \n",
      "67      0         0\\n1         0\\n2         0\\n3      ...      No   \n",
      "89      0         0\\n1         0\\n2         0\\n3      ...      No   \n",
      "101     0         0\\n1         0\\n2         0\\n3      ...      No   \n",
      "104     0         0\\n1         0\\n2         0\\n3      ...     Yes   \n",
      "132     0         0\\n1         0\\n2         0\\n3      ...     Yes   \n",
      "150     0         0\\n1         0\\n2         0\\n3      ...      No   \n",
      "188     0         0\\n1         0\\n2         0\\n3      ...      No   \n",
      "192     0         0\\n1         0\\n2         0\\n3      ...      No   \n",
      "193     0         0\\n1         0\\n2         0\\n3      ...      No   \n",
      "194     0         0\\n1         0\\n2         0\\n3      ...      No   \n",
      "250     0         0\\n1         0\\n2         0\\n3      ...     Yes   \n",
      "256     0         0\\n1         0\\n2         0\\n3      ...     Yes   \n",
      "266     0         0\\n1         0\\n2         0\\n3      ...      No   \n",
      "292     0         0\\n1         0\\n2         0\\n3      ...      No   \n",
      "305     0         0\\n1         0\\n2         0\\n3      ...      No   \n",
      "306     0         0\\n1         0\\n2         0\\n3      ...      No   \n",
      "310     0         0\\n1         0\\n2         0\\n3      ...      No   \n",
      "358     0         0\\n1         0\\n2         0\\n3      ...     Yes   \n",
      "359     0         0\\n1         0\\n2         0\\n3      ...      No   \n",
      "366     0         0\\n1         0\\n2         0\\n3      ...     Yes   \n",
      "377     0         0\\n1         0\\n2         0\\n3      ...      No   \n",
      "434     0         0\\n1         0\\n2         0\\n3      ...     Yes   \n",
      "524     0         0\\n1         0\\n2         0\\n3      ...      No   \n",
      "525     0         0\\n1         0\\n2         0\\n3      ...     Yes   \n",
      "526     0         0\\n1         0\\n2         0\\n3      ...      No   \n",
      "565     0         0\\n1         0\\n2         0\\n3      ...      No   \n",
      "...                                                   ...     ...   \n",
      "109629  0         0\\n1         0\\n2         0\\n3      ...     Yes   \n",
      "109633  0         0\\n1         0\\n2         0\\n3      ...     Yes   \n",
      "109646  0         0\\n1         0\\n2         0\\n3      ...      No   \n",
      "109647  0         0\\n1         0\\n2         0\\n3      ...     Yes   \n",
      "109649  0         0\\n1         0\\n2         0\\n3      ...      No   \n",
      "109650  0         0\\n1         0\\n2         0\\n3      ...     Yes   \n",
      "109830  0         0\\n1         0\\n2         0\\n3      ...     Yes   \n",
      "109847  0         0\\n1         0\\n2         0\\n3      ...     Yes   \n",
      "109848  0         0\\n1         0\\n2         0\\n3      ...      No   \n",
      "109852  0         0\\n1         0\\n2         0\\n3      ...      No   \n",
      "110231  0         0\\n1         0\\n2         0\\n3      ...      No   \n",
      "110235  0         0\\n1         0\\n2         0\\n3      ...     Yes   \n",
      "110236  0         0\\n1         0\\n2         0\\n3      ...      No   \n",
      "110299  0         0\\n1         0\\n2         0\\n3      ...     Yes   \n",
      "110313  0         0\\n1         0\\n2         0\\n3      ...      No   \n",
      "110319  0         0\\n1         0\\n2         0\\n3      ...      No   \n",
      "110320  0         0\\n1         0\\n2         0\\n3      ...      No   \n",
      "110321  0         0\\n1         0\\n2         0\\n3      ...      No   \n",
      "110331  0         0\\n1         0\\n2         0\\n3      ...     Yes   \n",
      "110334  0         0\\n1         0\\n2         0\\n3      ...      No   \n",
      "110335  0         0\\n1         0\\n2         0\\n3      ...      No   \n",
      "110339  0         0\\n1         0\\n2         0\\n3      ...     Yes   \n",
      "110341  0         0\\n1         0\\n2         0\\n3      ...      No   \n",
      "110342  0         0\\n1         0\\n2         0\\n3      ...      No   \n",
      "110343  0         0\\n1         0\\n2         0\\n3      ...      No   \n",
      "110345  0         0\\n1         0\\n2         0\\n3      ...      No   \n",
      "110346  0         0\\n1         0\\n2         0\\n3      ...      No   \n",
      "110454  0         0\\n1         0\\n2         0\\n3      ...      No   \n",
      "110460  0         0\\n1         0\\n2         0\\n3      ...      No   \n",
      "110507  0         0\\n1         0\\n2         0\\n3      ...      No   \n",
      "\n",
      "       Appointment Day  \n",
      "59          2016-04-29  \n",
      "63          2016-04-27  \n",
      "64          2016-04-25  \n",
      "65          2016-04-27  \n",
      "67          2016-04-29  \n",
      "89          2016-04-29  \n",
      "101         2016-04-29  \n",
      "104         2016-04-28  \n",
      "132         2016-04-08  \n",
      "150         2016-04-29  \n",
      "188         2016-04-29  \n",
      "192         2016-04-29  \n",
      "193         2016-03-31  \n",
      "194         2016-04-01  \n",
      "250         2016-04-29  \n",
      "256         2016-04-27  \n",
      "266         2016-04-29  \n",
      "292         2016-04-29  \n",
      "305         2016-04-29  \n",
      "306         2016-04-29  \n",
      "310         2016-04-29  \n",
      "358         2016-03-31  \n",
      "359         2016-04-06  \n",
      "366         2016-03-31  \n",
      "377         2016-03-29  \n",
      "434         2016-03-31  \n",
      "524         2016-03-18  \n",
      "525         2016-04-01  \n",
      "526         2016-04-29  \n",
      "565         2016-04-15  \n",
      "...                ...  \n",
      "109629      2016-05-04  \n",
      "109633      2016-05-04  \n",
      "109646      2016-05-04  \n",
      "109647      2016-05-12  \n",
      "109649      2016-05-04  \n",
      "109650      2016-05-12  \n",
      "109830      2016-05-25  \n",
      "109847      2016-05-11  \n",
      "109848      2016-05-17  \n",
      "109852      2016-05-24  \n",
      "110231      2016-04-28  \n",
      "110235      2016-04-28  \n",
      "110236      2016-05-06  \n",
      "110299      2016-05-30  \n",
      "110313      2016-04-19  \n",
      "110319      2016-04-29  \n",
      "110320      2016-05-09  \n",
      "110321      2016-02-11  \n",
      "110331      2016-02-24  \n",
      "110334      2016-06-01  \n",
      "110335      2016-02-11  \n",
      "110339      2016-04-14  \n",
      "110341      2016-05-18  \n",
      "110342      2016-06-06  \n",
      "110343      2016-05-12  \n",
      "110345      2016-05-16  \n",
      "110346      2016-06-06  \n",
      "110454      2016-06-03  \n",
      "110460      2016-06-03  \n",
      "110507      2016-06-08  \n",
      "\n",
      "[3539 rows x 11 columns]\n"
     ]
    }
   ],
   "source": [
    "## Let's check the total count for age = 0\n",
    "print (noshow[noshow.Age == 0])\n",
    "##noshow[noshow.Age == 0].count(0)"
   ]
  },
  {
   "cell_type": "code",
   "execution_count": 35,
   "metadata": {},
   "outputs": [
    {
     "data": {
      "text/plain": [
       "Gender             object\n",
       "Age                 int64\n",
       "Neighbourhood      object\n",
       "Scholarship         int64\n",
       "HyperTension        int64\n",
       "Diabetes            int64\n",
       "Alcoholism          int64\n",
       "Handicap            int64\n",
       "SMS_received       object\n",
       "No-show            object\n",
       "Appointment Day    object\n",
       "dtype: object"
      ]
     },
     "execution_count": 35,
     "metadata": {},
     "output_type": "execute_result"
    }
   ],
   "source": [
    "## Lets check the data type of data sets and decide which data set type needs to be change \n",
    "## and which data set is required for our analysis\n",
    "noshow.dtypes"
   ]
  },
  {
   "cell_type": "code",
   "execution_count": 36,
   "metadata": {},
   "outputs": [],
   "source": [
    "## So lets first exclude all 3539 rows of patient with age = 0\n",
    "\n",
    "noshow = noshow[noshow['Age'] >0]"
   ]
  },
  {
   "cell_type": "code",
   "execution_count": 37,
   "metadata": {
    "scrolled": true
   },
   "outputs": [
    {
     "name": "stdout",
     "output_type": "stream",
     "text": [
      "Empty DataFrame\n",
      "Columns: [Gender, Age, Neighbourhood, Scholarship, HyperTension, Diabetes, Alcoholism, Handicap, SMS_received, No-show, Appointment Day]\n",
      "Index: []\n"
     ]
    }
   ],
   "source": [
    "## Lets check if patient with zero age are removed or not.\n",
    "print (noshow[noshow.Age == 0])"
   ]
  },
  {
   "cell_type": "markdown",
   "metadata": {},
   "source": [
    "Now, lets start our data analysis and vizualisation.\n",
    "\n",
    "### 1. Let us first check how the Day of week effect the no show."
   ]
  },
  {
   "cell_type": "code",
   "execution_count": 38,
   "metadata": {},
   "outputs": [
    {
     "data": {
      "text/html": [
       "<div>\n",
       "<style scoped>\n",
       "    .dataframe tbody tr th:only-of-type {\n",
       "        vertical-align: middle;\n",
       "    }\n",
       "\n",
       "    .dataframe tbody tr th {\n",
       "        vertical-align: top;\n",
       "    }\n",
       "\n",
       "    .dataframe thead th {\n",
       "        text-align: right;\n",
       "    }\n",
       "</style>\n",
       "<table border=\"1\" class=\"dataframe\">\n",
       "  <thead>\n",
       "    <tr style=\"text-align: right;\">\n",
       "      <th></th>\n",
       "      <th>Gender</th>\n",
       "      <th>Age</th>\n",
       "      <th>Neighbourhood</th>\n",
       "      <th>Scholarship</th>\n",
       "      <th>HyperTension</th>\n",
       "      <th>Diabetes</th>\n",
       "      <th>Alcoholism</th>\n",
       "      <th>Handicap</th>\n",
       "      <th>SMS_received</th>\n",
       "      <th>No-show</th>\n",
       "      <th>Appointment Day</th>\n",
       "      <th>Week_Day</th>\n",
       "    </tr>\n",
       "  </thead>\n",
       "  <tbody>\n",
       "    <tr>\n",
       "      <th>0</th>\n",
       "      <td>F</td>\n",
       "      <td>62</td>\n",
       "      <td>JARDIM DA PENHA</td>\n",
       "      <td>0</td>\n",
       "      <td>1</td>\n",
       "      <td>0</td>\n",
       "      <td>0</td>\n",
       "      <td>0</td>\n",
       "      <td>0         0\\n1         0\\n2         0\\n3      ...</td>\n",
       "      <td>No</td>\n",
       "      <td>2016-04-29</td>\n",
       "      <td>Friday</td>\n",
       "    </tr>\n",
       "    <tr>\n",
       "      <th>1</th>\n",
       "      <td>M</td>\n",
       "      <td>56</td>\n",
       "      <td>JARDIM DA PENHA</td>\n",
       "      <td>0</td>\n",
       "      <td>0</td>\n",
       "      <td>0</td>\n",
       "      <td>0</td>\n",
       "      <td>0</td>\n",
       "      <td>0         0\\n1         0\\n2         0\\n3      ...</td>\n",
       "      <td>No</td>\n",
       "      <td>2016-04-29</td>\n",
       "      <td>Friday</td>\n",
       "    </tr>\n",
       "    <tr>\n",
       "      <th>2</th>\n",
       "      <td>F</td>\n",
       "      <td>62</td>\n",
       "      <td>MATA DA PRAIA</td>\n",
       "      <td>0</td>\n",
       "      <td>0</td>\n",
       "      <td>0</td>\n",
       "      <td>0</td>\n",
       "      <td>0</td>\n",
       "      <td>0         0\\n1         0\\n2         0\\n3      ...</td>\n",
       "      <td>No</td>\n",
       "      <td>2016-04-29</td>\n",
       "      <td>Friday</td>\n",
       "    </tr>\n",
       "    <tr>\n",
       "      <th>3</th>\n",
       "      <td>F</td>\n",
       "      <td>8</td>\n",
       "      <td>PONTAL DE CAMBURI</td>\n",
       "      <td>0</td>\n",
       "      <td>0</td>\n",
       "      <td>0</td>\n",
       "      <td>0</td>\n",
       "      <td>0</td>\n",
       "      <td>0         0\\n1         0\\n2         0\\n3      ...</td>\n",
       "      <td>No</td>\n",
       "      <td>2016-04-29</td>\n",
       "      <td>Friday</td>\n",
       "    </tr>\n",
       "    <tr>\n",
       "      <th>4</th>\n",
       "      <td>F</td>\n",
       "      <td>56</td>\n",
       "      <td>JARDIM DA PENHA</td>\n",
       "      <td>0</td>\n",
       "      <td>1</td>\n",
       "      <td>1</td>\n",
       "      <td>0</td>\n",
       "      <td>0</td>\n",
       "      <td>0         0\\n1         0\\n2         0\\n3      ...</td>\n",
       "      <td>No</td>\n",
       "      <td>2016-04-29</td>\n",
       "      <td>Friday</td>\n",
       "    </tr>\n",
       "  </tbody>\n",
       "</table>\n",
       "</div>"
      ],
      "text/plain": [
       "  Gender  Age      Neighbourhood  Scholarship  HyperTension  Diabetes  \\\n",
       "0      F   62    JARDIM DA PENHA            0             1         0   \n",
       "1      M   56    JARDIM DA PENHA            0             0         0   \n",
       "2      F   62      MATA DA PRAIA            0             0         0   \n",
       "3      F    8  PONTAL DE CAMBURI            0             0         0   \n",
       "4      F   56    JARDIM DA PENHA            0             1         1   \n",
       "\n",
       "   Alcoholism  Handicap                                       SMS_received  \\\n",
       "0           0         0  0         0\\n1         0\\n2         0\\n3      ...   \n",
       "1           0         0  0         0\\n1         0\\n2         0\\n3      ...   \n",
       "2           0         0  0         0\\n1         0\\n2         0\\n3      ...   \n",
       "3           0         0  0         0\\n1         0\\n2         0\\n3      ...   \n",
       "4           0         0  0         0\\n1         0\\n2         0\\n3      ...   \n",
       "\n",
       "  No-show Appointment Day Week_Day  \n",
       "0      No      2016-04-29   Friday  \n",
       "1      No      2016-04-29   Friday  \n",
       "2      No      2016-04-29   Friday  \n",
       "3      No      2016-04-29   Friday  \n",
       "4      No      2016-04-29   Friday  "
      ]
     },
     "execution_count": 38,
     "metadata": {},
     "output_type": "execute_result"
    }
   ],
   "source": [
    "## to check lets first generate the week days using the appointment day column.\n",
    "\n",
    "noshow['Appointment Day'] = pd.to_datetime(noshow['Appointment Day'])\n",
    "noshow ['Week_Day'] = noshow['Appointment Day'].dt.weekday_name\n",
    "noshow.head()"
   ]
  },
  {
   "cell_type": "code",
   "execution_count": 39,
   "metadata": {},
   "outputs": [
    {
     "data": {
      "text/html": [
       "<div>\n",
       "<style scoped>\n",
       "    .dataframe tbody tr th:only-of-type {\n",
       "        vertical-align: middle;\n",
       "    }\n",
       "\n",
       "    .dataframe tbody tr th {\n",
       "        vertical-align: top;\n",
       "    }\n",
       "\n",
       "    .dataframe thead th {\n",
       "        text-align: right;\n",
       "    }\n",
       "</style>\n",
       "<table border=\"1\" class=\"dataframe\">\n",
       "  <thead>\n",
       "    <tr style=\"text-align: right;\">\n",
       "      <th></th>\n",
       "      <th>Gender</th>\n",
       "      <th>Age</th>\n",
       "      <th>Neighbourhood</th>\n",
       "      <th>Scholarship</th>\n",
       "      <th>HyperTension</th>\n",
       "      <th>Diabetes</th>\n",
       "      <th>Alcoholism</th>\n",
       "      <th>Handicap</th>\n",
       "      <th>SMS_received</th>\n",
       "      <th>No-show</th>\n",
       "      <th>Appointment Day</th>\n",
       "      <th>Week_Day</th>\n",
       "      <th>Day Number</th>\n",
       "    </tr>\n",
       "  </thead>\n",
       "  <tbody>\n",
       "    <tr>\n",
       "      <th>0</th>\n",
       "      <td>F</td>\n",
       "      <td>62</td>\n",
       "      <td>JARDIM DA PENHA</td>\n",
       "      <td>0</td>\n",
       "      <td>1</td>\n",
       "      <td>0</td>\n",
       "      <td>0</td>\n",
       "      <td>0</td>\n",
       "      <td>0         0\\n1         0\\n2         0\\n3      ...</td>\n",
       "      <td>No</td>\n",
       "      <td>2016-04-29</td>\n",
       "      <td>Friday</td>\n",
       "      <td>5</td>\n",
       "    </tr>\n",
       "    <tr>\n",
       "      <th>1</th>\n",
       "      <td>M</td>\n",
       "      <td>56</td>\n",
       "      <td>JARDIM DA PENHA</td>\n",
       "      <td>0</td>\n",
       "      <td>0</td>\n",
       "      <td>0</td>\n",
       "      <td>0</td>\n",
       "      <td>0</td>\n",
       "      <td>0         0\\n1         0\\n2         0\\n3      ...</td>\n",
       "      <td>No</td>\n",
       "      <td>2016-04-29</td>\n",
       "      <td>Friday</td>\n",
       "      <td>5</td>\n",
       "    </tr>\n",
       "  </tbody>\n",
       "</table>\n",
       "</div>"
      ],
      "text/plain": [
       "  Gender  Age    Neighbourhood  Scholarship  HyperTension  Diabetes  \\\n",
       "0      F   62  JARDIM DA PENHA            0             1         0   \n",
       "1      M   56  JARDIM DA PENHA            0             0         0   \n",
       "\n",
       "   Alcoholism  Handicap                                       SMS_received  \\\n",
       "0           0         0  0         0\\n1         0\\n2         0\\n3      ...   \n",
       "1           0         0  0         0\\n1         0\\n2         0\\n3      ...   \n",
       "\n",
       "  No-show Appointment Day Week_Day  Day Number  \n",
       "0      No      2016-04-29   Friday           5  \n",
       "1      No      2016-04-29   Friday           5  "
      ]
     },
     "execution_count": 39,
     "metadata": {},
     "output_type": "execute_result"
    }
   ],
   "source": [
    "## now lets generate numbers from 1 to 7 for week days for batter visualization of the graph.\n",
    "\n",
    "def Weekday(x):\n",
    "    if x == 'Monday':\n",
    "        return 1\n",
    "    if x == 'Tuesday':\n",
    "        return 2\n",
    "    if x == 'Wednesday':\n",
    "        return 3\n",
    "    if x == 'Thursday':\n",
    "        return 4\n",
    "    if x == 'Friday':\n",
    "        return 5\n",
    "    if x == 'Saturday':\n",
    "        return 6\n",
    "    if x == 'Sunday':\n",
    "        return 7\n",
    "    \n",
    "    \n",
    "noshow['Day Number'] = noshow['Week_Day'].apply(Weekday)\n",
    "noshow.head(2)"
   ]
  },
  {
   "cell_type": "code",
   "execution_count": 40,
   "metadata": {
    "scrolled": true
   },
   "outputs": [
    {
     "data": {
      "text/plain": [
       "Text(0.5, 0, 'Weekday (starts from Monday)')"
      ]
     },
     "execution_count": 40,
     "metadata": {},
     "output_type": "execute_result"
    },
    {
     "data": {
      "image/png": "[encoded data removed]",
      "text/plain": [
       "<Figure size 1440x360 with 1 Axes>"
      ]
     },
     "metadata": {},
     "output_type": "display_data"
    }
   ],
   "source": [
    "## now lets draw some graphs for week days having highest number of no show count\n",
    "\n",
    "sns.set_style('whitegrid')\n",
    "figure = plot.figure(figsize=(20,5))\n",
    "ax = figure.add_subplot(1,2,1)\n",
    "ax.set_title(\"No Show Count--weekly\")\n",
    "sns.countplot(x=\"Day Number\",hue=\"No-show\",data=noshow,palette='winter',ax=ax)\n",
    "ax.set_xlabel(\"Weekday (starts from Monday)\")"
   ]
  },
  {
   "cell_type": "markdown",
   "metadata": {},
   "source": [
    "Graph above shows that First 3 days of the week has highest No Show count.\n"
   ]
  },
  {
   "cell_type": "markdown",
   "metadata": {},
   "source": [
    "## 2. Lets check the rate of no show for each day of week."
   ]
  },
  {
   "cell_type": "code",
   "execution_count": 45,
   "metadata": {},
   "outputs": [
    {
     "data": {
      "text/html": [
       "<div>\n",
       "<style scoped>\n",
       "    .dataframe tbody tr th:only-of-type {\n",
       "        vertical-align: middle;\n",
       "    }\n",
       "\n",
       "    .dataframe tbody tr th {\n",
       "        vertical-align: top;\n",
       "    }\n",
       "\n",
       "    .dataframe thead th {\n",
       "        text-align: right;\n",
       "    }\n",
       "</style>\n",
       "<table border=\"1\" class=\"dataframe\">\n",
       "  <thead>\n",
       "    <tr style=\"text-align: right;\">\n",
       "      <th>No-show</th>\n",
       "      <th>Desiase</th>\n",
       "      <th>Gender</th>\n",
       "      <th>AgeGroup</th>\n",
       "      <th>Week_Day</th>\n",
       "      <th>Month Number</th>\n",
       "      <th>No</th>\n",
       "      <th>Yes</th>\n",
       "      <th>Total</th>\n",
       "      <th>No Show Rate</th>\n",
       "    </tr>\n",
       "  </thead>\n",
       "  <tbody>\n",
       "    <tr>\n",
       "      <th>0</th>\n",
       "      <td>Alcoholism</td>\n",
       "      <td>F</td>\n",
       "      <td>65+</td>\n",
       "      <td>Friday</td>\n",
       "      <td>1</td>\n",
       "      <td>0.0</td>\n",
       "      <td>NaN</td>\n",
       "      <td>NaN</td>\n",
       "      <td>NaN</td>\n",
       "    </tr>\n",
       "    <tr>\n",
       "      <th>1</th>\n",
       "      <td>Alcoholism</td>\n",
       "      <td>F</td>\n",
       "      <td>65+</td>\n",
       "      <td>Friday</td>\n",
       "      <td>2</td>\n",
       "      <td>0.0</td>\n",
       "      <td>0.0</td>\n",
       "      <td>0.0</td>\n",
       "      <td>NaN</td>\n",
       "    </tr>\n",
       "    <tr>\n",
       "      <th>2</th>\n",
       "      <td>Alcoholism</td>\n",
       "      <td>F</td>\n",
       "      <td>65+</td>\n",
       "      <td>Friday</td>\n",
       "      <td>3</td>\n",
       "      <td>0.0</td>\n",
       "      <td>0.0</td>\n",
       "      <td>0.0</td>\n",
       "      <td>NaN</td>\n",
       "    </tr>\n",
       "    <tr>\n",
       "      <th>3</th>\n",
       "      <td>Alcoholism</td>\n",
       "      <td>F</td>\n",
       "      <td>65+</td>\n",
       "      <td>Friday</td>\n",
       "      <td>4</td>\n",
       "      <td>6.0</td>\n",
       "      <td>1.0</td>\n",
       "      <td>7.0</td>\n",
       "      <td>0.142857</td>\n",
       "    </tr>\n",
       "    <tr>\n",
       "      <th>4</th>\n",
       "      <td>Alcoholism</td>\n",
       "      <td>F</td>\n",
       "      <td>65+</td>\n",
       "      <td>Friday</td>\n",
       "      <td>5</td>\n",
       "      <td>2.0</td>\n",
       "      <td>3.0</td>\n",
       "      <td>5.0</td>\n",
       "      <td>0.600000</td>\n",
       "    </tr>\n",
       "  </tbody>\n",
       "</table>\n",
       "</div>"
      ],
      "text/plain": [
       "No-show     Desiase Gender AgeGroup Week_Day  Month Number   No  Yes  Total  \\\n",
       "0        Alcoholism      F      65+   Friday             1  0.0  NaN    NaN   \n",
       "1        Alcoholism      F      65+   Friday             2  0.0  0.0    0.0   \n",
       "2        Alcoholism      F      65+   Friday             3  0.0  0.0    0.0   \n",
       "3        Alcoholism      F      65+   Friday             4  6.0  1.0    7.0   \n",
       "4        Alcoholism      F      65+   Friday             5  2.0  3.0    5.0   \n",
       "\n",
       "No-show  No Show Rate  \n",
       "0                 NaN  \n",
       "1                 NaN  \n",
       "2                 NaN  \n",
       "3            0.142857  \n",
       "4            0.600000  "
      ]
     },
     "execution_count": 45,
     "metadata": {},
     "output_type": "execute_result"
    }
   ],
   "source": [
    "## For that, lets first group the age in a function ageGroup.\n",
    "\n",
    "def ageGroup(x):\n",
    "    if x < 18:\n",
    "        return \"Young <18\"\n",
    "    elif x >= 18 and x <= 35:\n",
    "        return \"Adult(18-35)\"\n",
    "    elif x > 35 and x <= 64:\n",
    "        return \"Older(36-64)\"\n",
    "    else:\n",
    "        return \"65+\"\n",
    "    \n",
    "noshow['AgeGroup'] = noshow['Age'].apply(ageGroup)  ## insert AgeGroup in dataframe\n",
    "\n",
    "noshow['Month Number'] = noshow['Appointment Day'].dt.month   ## adds Month Number column in data frame based on appointment day\n",
    "\n",
    "## Now lets create a rate_wk dataframe\n",
    "\n",
    "rate_wk = noshow.pivot_table(values=[\"HyperTension\",\"Diabetes\",\"Alcoholism\",\"Handicap\"],\n",
    "                         columns=[\"No-show\",'Gender','AgeGroup',\"Week_Day\"],index=[\"Month Number\"],aggfunc=np.sum)\n",
    "week = rate_wk.unstack().unstack('No-show').reset_index().rename(columns={\"level_0\":\"Desiase\"})\n",
    "week['Total'] = week['Yes'] + week['No']\n",
    "week['No Show Rate'] = week['Yes'] / week['Total']\n",
    "week.head()"
   ]
  },
  {
   "cell_type": "code",
   "execution_count": 42,
   "metadata": {},
   "outputs": [
    {
     "data": {
      "text/html": [
       "<div>\n",
       "<style scoped>\n",
       "    .dataframe tbody tr th:only-of-type {\n",
       "        vertical-align: middle;\n",
       "    }\n",
       "\n",
       "    .dataframe tbody tr th {\n",
       "        vertical-align: top;\n",
       "    }\n",
       "\n",
       "    .dataframe thead th {\n",
       "        text-align: right;\n",
       "    }\n",
       "</style>\n",
       "<table border=\"1\" class=\"dataframe\">\n",
       "  <thead>\n",
       "    <tr style=\"text-align: right;\">\n",
       "      <th>No-show</th>\n",
       "      <th>Desiase</th>\n",
       "      <th>Gender</th>\n",
       "      <th>AgeGroup</th>\n",
       "      <th>Week_Day</th>\n",
       "      <th>Month Number</th>\n",
       "      <th>No</th>\n",
       "      <th>Yes</th>\n",
       "      <th>Total</th>\n",
       "      <th>No Show Rate</th>\n",
       "    </tr>\n",
       "  </thead>\n",
       "  <tbody>\n",
       "    <tr>\n",
       "      <th>0</th>\n",
       "      <td>Alcoholism</td>\n",
       "      <td>F</td>\n",
       "      <td>65+</td>\n",
       "      <td>Friday</td>\n",
       "      <td>1</td>\n",
       "      <td>0</td>\n",
       "      <td>0</td>\n",
       "      <td>0</td>\n",
       "      <td>0.00</td>\n",
       "    </tr>\n",
       "    <tr>\n",
       "      <th>1</th>\n",
       "      <td>Alcoholism</td>\n",
       "      <td>F</td>\n",
       "      <td>65+</td>\n",
       "      <td>Friday</td>\n",
       "      <td>2</td>\n",
       "      <td>0</td>\n",
       "      <td>0</td>\n",
       "      <td>0</td>\n",
       "      <td>0.00</td>\n",
       "    </tr>\n",
       "    <tr>\n",
       "      <th>2</th>\n",
       "      <td>Alcoholism</td>\n",
       "      <td>F</td>\n",
       "      <td>65+</td>\n",
       "      <td>Friday</td>\n",
       "      <td>3</td>\n",
       "      <td>0</td>\n",
       "      <td>0</td>\n",
       "      <td>0</td>\n",
       "      <td>0.00</td>\n",
       "    </tr>\n",
       "    <tr>\n",
       "      <th>3</th>\n",
       "      <td>Alcoholism</td>\n",
       "      <td>F</td>\n",
       "      <td>65+</td>\n",
       "      <td>Friday</td>\n",
       "      <td>4</td>\n",
       "      <td>6</td>\n",
       "      <td>1</td>\n",
       "      <td>7</td>\n",
       "      <td>0.14</td>\n",
       "    </tr>\n",
       "    <tr>\n",
       "      <th>4</th>\n",
       "      <td>Alcoholism</td>\n",
       "      <td>F</td>\n",
       "      <td>65+</td>\n",
       "      <td>Friday</td>\n",
       "      <td>5</td>\n",
       "      <td>2</td>\n",
       "      <td>3</td>\n",
       "      <td>5</td>\n",
       "      <td>0.60</td>\n",
       "    </tr>\n",
       "  </tbody>\n",
       "</table>\n",
       "</div>"
      ],
      "text/plain": [
       "No-show     Desiase Gender AgeGroup Week_Day  Month Number  No  Yes  Total  \\\n",
       "0        Alcoholism      F      65+   Friday             1   0    0      0   \n",
       "1        Alcoholism      F      65+   Friday             2   0    0      0   \n",
       "2        Alcoholism      F      65+   Friday             3   0    0      0   \n",
       "3        Alcoholism      F      65+   Friday             4   6    1      7   \n",
       "4        Alcoholism      F      65+   Friday             5   2    3      5   \n",
       "\n",
       "No-show  No Show Rate  \n",
       "0                0.00  \n",
       "1                0.00  \n",
       "2                0.00  \n",
       "3                0.14  \n",
       "4                0.60  "
      ]
     },
     "execution_count": 42,
     "metadata": {},
     "output_type": "execute_result"
    }
   ],
   "source": [
    "## here we can see that the data contain NaN value. So lets first replace it with 0.\n",
    "\n",
    "week[['Yes',\"No\",\"Total\"]] = week[['Yes',\"No\",\"Total\"]].fillna(0).astype(int)\n",
    "week['No Show Rate'] = week['No Show Rate'].round(2).fillna(0)\n",
    "week.head()"
   ]
  },
  {
   "cell_type": "code",
   "execution_count": 13,
   "metadata": {},
   "outputs": [
    {
     "data": {
      "text/plain": [
       "<matplotlib.axes._subplots.AxesSubplot at 0x278acd09c88>"
      ]
     },
     "execution_count": 13,
     "metadata": {},
     "output_type": "execute_result"
    },
    {
     "data": {
      "image/png": "[encoded data removed]",
      "text/plain": [
       "<Figure size 432x288 with 1 Axes>"
      ]
     },
     "metadata": {},
     "output_type": "display_data"
    }
   ],
   "source": [
    "sns.barplot(\"Week_Day\",\"No Show Rate\",data=week,estimator=np.mean,\n",
    "            order=['Monday','Tuesday','Wednesday','Thursday','Friday','Saturday','Sunday'])"
   ]
  },
  {
   "cell_type": "markdown",
   "metadata": {},
   "source": [
    "The graph shows that the minimum no show rate is on saturday while highest is on Tuesday."
   ]
  },
  {
   "cell_type": "markdown",
   "metadata": {},
   "source": [
    "## 3. Now lets see which month of the year have largest No Show count."
   ]
  },
  {
   "cell_type": "code",
   "execution_count": 14,
   "metadata": {},
   "outputs": [
    {
     "data": {
      "image/png": "[encoded data removed]",
      "text/plain": [
       "<Figure size 1440x360 with 1 Axes>"
      ]
     },
     "metadata": {},
     "output_type": "display_data"
    }
   ],
   "source": [
    "## Here we can generate month number from Appointment Day.\n",
    "noshow['Month Number'] = noshow['Appointment Day'].dt.month   ## adds Month Number column in data frame\n",
    "\n",
    "figure = plot.figure(figsize=(20,5))\n",
    "ax2 = figure.add_subplot(1,2,2)\n",
    "ax2.set_title(\"No Show Count--Monthly\")\n",
    "sns.countplot(x=\"Month Number\",hue=\"No-show\",data=noshow,palette='winter',ax=ax2)\n",
    "ax2.set_xlabel(\"Month (starts from January)\")\n",
    "\n",
    "plot.tight_layout\n",
    "plot.show()\n"
   ]
  },
  {
   "cell_type": "markdown",
   "metadata": {},
   "source": [
    "Fro the data avilable, this plot shows that the highest No show count is their in April and May. However, highest people visit hospital is also in the month of May."
   ]
  },
  {
   "cell_type": "markdown",
   "metadata": {},
   "source": [
    "## 4. Now, lets see the highest No Show Rate based on the Desiase category."
   ]
  },
  {
   "cell_type": "code",
   "execution_count": 15,
   "metadata": {},
   "outputs": [
    {
     "data": {
      "text/html": [
       "<div>\n",
       "<style scoped>\n",
       "    .dataframe tbody tr th:only-of-type {\n",
       "        vertical-align: middle;\n",
       "    }\n",
       "\n",
       "    .dataframe tbody tr th {\n",
       "        vertical-align: top;\n",
       "    }\n",
       "\n",
       "    .dataframe thead th {\n",
       "        text-align: right;\n",
       "    }\n",
       "</style>\n",
       "<table border=\"1\" class=\"dataframe\">\n",
       "  <thead>\n",
       "    <tr style=\"text-align: right;\">\n",
       "      <th>No-show</th>\n",
       "      <th>No</th>\n",
       "      <th>Yes</th>\n",
       "      <th>Desiase</th>\n",
       "      <th>No-show Rate</th>\n",
       "    </tr>\n",
       "  </thead>\n",
       "  <tbody>\n",
       "    <tr>\n",
       "      <th>0</th>\n",
       "      <td>2683</td>\n",
       "      <td>677</td>\n",
       "      <td>Alcoholism</td>\n",
       "      <td>0.201488</td>\n",
       "    </tr>\n",
       "    <tr>\n",
       "      <th>1</th>\n",
       "      <td>6513</td>\n",
       "      <td>1430</td>\n",
       "      <td>Diabetes</td>\n",
       "      <td>0.180033</td>\n",
       "    </tr>\n",
       "    <tr>\n",
       "      <th>2</th>\n",
       "      <td>2005</td>\n",
       "      <td>453</td>\n",
       "      <td>Handicap</td>\n",
       "      <td>0.184296</td>\n",
       "    </tr>\n",
       "    <tr>\n",
       "      <th>3</th>\n",
       "      <td>18029</td>\n",
       "      <td>3772</td>\n",
       "      <td>HyperTension</td>\n",
       "      <td>0.173020</td>\n",
       "    </tr>\n",
       "  </tbody>\n",
       "</table>\n",
       "</div>"
      ],
      "text/plain": [
       "No-show     No   Yes       Desiase  No-show Rate\n",
       "0         2683   677    Alcoholism      0.201488\n",
       "1         6513  1430      Diabetes      0.180033\n",
       "2         2005   453      Handicap      0.184296\n",
       "3        18029  3772  HyperTension      0.173020"
      ]
     },
     "execution_count": 15,
     "metadata": {},
     "output_type": "execute_result"
    }
   ],
   "source": [
    "## for that lets modify our data frame a bit again.\n",
    "\n",
    "df = noshow.pivot_table(values=[\"HyperTension\",\"Diabetes\",\"Alcoholism\",\"Handicap\"],\n",
    "                       columns=\"No-show\", aggfunc=np.sum)\n",
    "rate = df.unstack().unstack('No-show').reset_index()\n",
    "rate['Desiase'] = rate['index']\n",
    "rate.drop(['index'], axis=1, inplace = True)\n",
    "rate[\"No-show Rate\"] = rate['Yes'] / (rate['Yes'] + rate['No'])\n",
    "rate"
   ]
  },
  {
   "cell_type": "markdown",
   "metadata": {},
   "source": [
    "The table above shows that Alcoholism has highest no show rate while, HyperTension has the lowest now show rate."
   ]
  },
  {
   "cell_type": "markdown",
   "metadata": {},
   "source": [
    "## 5. Now lets chek this No-show rate for each month for each desiase catogery"
   ]
  },
  {
   "cell_type": "code",
   "execution_count": 16,
   "metadata": {},
   "outputs": [
    {
     "data": {
      "text/html": [
       "<div>\n",
       "<style scoped>\n",
       "    .dataframe tbody tr th:only-of-type {\n",
       "        vertical-align: middle;\n",
       "    }\n",
       "\n",
       "    .dataframe tbody tr th {\n",
       "        vertical-align: top;\n",
       "    }\n",
       "\n",
       "    .dataframe thead th {\n",
       "        text-align: right;\n",
       "    }\n",
       "</style>\n",
       "<table border=\"1\" class=\"dataframe\">\n",
       "  <thead>\n",
       "    <tr style=\"text-align: right;\">\n",
       "      <th>No-show</th>\n",
       "      <th>Desiase</th>\n",
       "      <th>Month Number</th>\n",
       "      <th>No</th>\n",
       "      <th>Yes</th>\n",
       "      <th>No-show Rate</th>\n",
       "    </tr>\n",
       "  </thead>\n",
       "  <tbody>\n",
       "    <tr>\n",
       "      <th>0</th>\n",
       "      <td>Alcoholism</td>\n",
       "      <td>1</td>\n",
       "      <td>1.0</td>\n",
       "      <td>2.0</td>\n",
       "      <td>0.666667</td>\n",
       "    </tr>\n",
       "    <tr>\n",
       "      <th>1</th>\n",
       "      <td>Alcoholism</td>\n",
       "      <td>2</td>\n",
       "      <td>4.0</td>\n",
       "      <td>0.0</td>\n",
       "      <td>0.000000</td>\n",
       "    </tr>\n",
       "    <tr>\n",
       "      <th>2</th>\n",
       "      <td>Alcoholism</td>\n",
       "      <td>3</td>\n",
       "      <td>26.0</td>\n",
       "      <td>18.0</td>\n",
       "      <td>0.409091</td>\n",
       "    </tr>\n",
       "    <tr>\n",
       "      <th>3</th>\n",
       "      <td>Alcoholism</td>\n",
       "      <td>4</td>\n",
       "      <td>393.0</td>\n",
       "      <td>211.0</td>\n",
       "      <td>0.349338</td>\n",
       "    </tr>\n",
       "    <tr>\n",
       "      <th>4</th>\n",
       "      <td>Alcoholism</td>\n",
       "      <td>5</td>\n",
       "      <td>1788.0</td>\n",
       "      <td>402.0</td>\n",
       "      <td>0.183562</td>\n",
       "    </tr>\n",
       "  </tbody>\n",
       "</table>\n",
       "</div>"
      ],
      "text/plain": [
       "No-show     Desiase  Month Number      No    Yes  No-show Rate\n",
       "0        Alcoholism             1     1.0    2.0      0.666667\n",
       "1        Alcoholism             2     4.0    0.0      0.000000\n",
       "2        Alcoholism             3    26.0   18.0      0.409091\n",
       "3        Alcoholism             4   393.0  211.0      0.349338\n",
       "4        Alcoholism             5  1788.0  402.0      0.183562"
      ]
     },
     "execution_count": 16,
     "metadata": {},
     "output_type": "execute_result"
    }
   ],
   "source": [
    "## for that let again modify the data for each month\n",
    "\n",
    "df = noshow.pivot_table(values=[\"HyperTension\",\"Diabetes\",\"Alcoholism\",\"Handicap\"],\n",
    "                       columns=\"No-show\",index=\"Month Number\",aggfunc=np.sum)\n",
    "rate = df.unstack().unstack('No-show').reset_index().rename(columns={\"level_0\":\"Desiase\"})\n",
    "rate[\"No-show Rate\"] = rate['Yes'] / (rate['Yes'] + rate['No'])\n",
    "rate.head()\n"
   ]
  },
  {
   "cell_type": "code",
   "execution_count": 17,
   "metadata": {},
   "outputs": [
    {
     "data": {
      "application/vnd.plotly.v1+json": {
       "config": {
        "linkText": "Export to plot.ly",
        "plotlyServerURL": "https://plot.ly",
        "showLink": false
       },
       "data": [
        {
         "mode": "lines+markers",
         "name": "Diabetes",
         "text": [
          "Diabetes",
          "Diabetes",
          "Diabetes",
          "Diabetes",
          "Diabetes",
          "Diabetes",
          "Diabetes",
          "Diabetes"
         ],
         "type": "scatter",
         "x": [
          1,
          2,
          3,
          4,
          5,
          6,
          11,
          12
         ],
         "y": [
          14.285714285714285,
          45.45454545454545,
          30.5,
          26.48037258815702,
          16.54901960784314,
          10.082493125572869,
          null,
          11.11111111111111
         ]
        },
        {
         "mode": "lines+markers",
         "name": "Alcoholism",
         "text": [
          "Alcoholism",
          "Alcoholism",
          "Alcoholism",
          "Alcoholism",
          "Alcoholism",
          "Alcoholism",
          "Alcoholism",
          "Alcoholism"
         ],
         "type": "scatter",
         "x": [
          1,
          2,
          3,
          4,
          5,
          6,
          11,
          12
         ],
         "y": [
          66.66666666666666,
          0,
          40.909090909090914,
          34.93377483443709,
          18.356164383561644,
          8.54368932038835,
          null,
          null
         ]
        },
        {
         "mode": "lines+markers",
         "name": "Handicap",
         "text": [
          "Handicap",
          "Handicap",
          "Handicap",
          "Handicap",
          "Handicap",
          "Handicap",
          "Handicap",
          "Handicap"
         ],
         "type": "scatter",
         "x": [
          1,
          2,
          3,
          4,
          5,
          6,
          11,
          12
         ],
         "y": [
          0,
          40,
          35.294117647058826,
          27.191011235955052,
          16.79151061173533,
          10.682492581602373,
          null,
          75
         ]
        },
        {
         "mode": "lines+markers",
         "name": "HyperTension",
         "text": [
          "HyperTension",
          "HyperTension",
          "HyperTension",
          "HyperTension",
          "HyperTension",
          "HyperTension",
          "HyperTension",
          "HyperTension"
         ],
         "type": "scatter",
         "x": [
          1,
          2,
          3,
          4,
          5,
          6,
          11,
          12
         ],
         "y": [
          25.806451612903224,
          29.88505747126437,
          30.605564648117838,
          26.063130206049976,
          15.33459964932788,
          8.871258564731338,
          null,
          34.69387755102041
         ]
        }
       ],
       "layout": {
        "hovermode": "closest",
        "template": {
         "data": {
          "bar": [
           {
            "error_x": {
             "color": "#2a3f5f"
            },
            "error_y": {
             "color": "#2a3f5f"
            },
            "marker": {
             "line": {
              "color": "#E5ECF6",
              "width": 0.5
             }
            },
            "type": "bar"
           }
          ],
          "barpolar": [
           {
            "marker": {
             "line": {
              "color": "#E5ECF6",
              "width": 0.5
             }
            },
            "type": "barpolar"
           }
          ],
          "carpet": [
           {
            "aaxis": {
             "endlinecolor": "#2a3f5f",
             "gridcolor": "white",
             "linecolor": "white",
             "minorgridcolor": "white",
             "startlinecolor": "#2a3f5f"
            },
            "baxis": {
             "endlinecolor": "#2a3f5f",
             "gridcolor": "white",
             "linecolor": "white",
             "minorgridcolor": "white",
             "startlinecolor": "#2a3f5f"
            },
            "type": "carpet"
           }
          ],
          "choropleth": [
           {
            "colorbar": {
             "outlinewidth": 0,
             "ticks": ""
            },
            "type": "choropleth"
           }
          ],
          "contour": [
           {
            "colorbar": {
             "outlinewidth": 0,
             "ticks": ""
            },
            "colorscale": [
             [
              0,
              "#0d0887"
             ],
             [
              0.1111111111111111,
              "#46039f"
             ],
             [
              0.2222222222222222,
              "#7201a8"
             ],
             [
              0.3333333333333333,
              "#9c179e"
             ],
             [
              0.4444444444444444,
              "#bd3786"
             ],
             [
              0.5555555555555556,
              "#d8576b"
             ],
             [
              0.6666666666666666,
              "#ed7953"
             ],
             [
              0.7777777777777778,
              "#fb9f3a"
             ],
             [
              0.8888888888888888,
              "#fdca26"
             ],
             [
              1,
              "#f0f921"
             ]
            ],
            "type": "contour"
           }
          ],
          "contourcarpet": [
           {
            "colorbar": {
             "outlinewidth": 0,
             "ticks": ""
            },
            "type": "contourcarpet"
           }
          ],
          "heatmap": [
           {
            "colorbar": {
             "outlinewidth": 0,
             "ticks": ""
            },
            "colorscale": [
             [
              0,
              "#0d0887"
             ],
             [
              0.1111111111111111,
              "#46039f"
             ],
             [
              0.2222222222222222,
              "#7201a8"
             ],
             [
              0.3333333333333333,
              "#9c179e"
             ],
             [
              0.4444444444444444,
              "#bd3786"
             ],
             [
              0.5555555555555556,
              "#d8576b"
             ],
             [
              0.6666666666666666,
              "#ed7953"
             ],
             [
              0.7777777777777778,
              "#fb9f3a"
             ],
             [
              0.8888888888888888,
              "#fdca26"
             ],
             [
              1,
              "#f0f921"
             ]
            ],
            "type": "heatmap"
           }
          ],
          "heatmapgl": [
           {
            "colorbar": {
             "outlinewidth": 0,
             "ticks": ""
            },
            "colorscale": [
             [
              0,
              "#0d0887"
             ],
             [
              0.1111111111111111,
              "#46039f"
             ],
             [
              0.2222222222222222,
              "#7201a8"
             ],
             [
              0.3333333333333333,
              "#9c179e"
             ],
             [
              0.4444444444444444,
              "#bd3786"
             ],
             [
              0.5555555555555556,
              "#d8576b"
             ],
             [
              0.6666666666666666,
              "#ed7953"
             ],
             [
              0.7777777777777778,
              "#fb9f3a"
             ],
             [
              0.8888888888888888,
              "#fdca26"
             ],
             [
              1,
              "#f0f921"
             ]
            ],
            "type": "heatmapgl"
           }
          ],
          "histogram": [
           {
            "marker": {
             "colorbar": {
              "outlinewidth": 0,
              "ticks": ""
             }
            },
            "type": "histogram"
           }
          ],
          "histogram2d": [
           {
            "colorbar": {
             "outlinewidth": 0,
             "ticks": ""
            },
            "colorscale": [
             [
              0,
              "#0d0887"
             ],
             [
              0.1111111111111111,
              "#46039f"
             ],
             [
              0.2222222222222222,
              "#7201a8"
             ],
             [
              0.3333333333333333,
              "#9c179e"
             ],
             [
              0.4444444444444444,
              "#bd3786"
             ],
             [
              0.5555555555555556,
              "#d8576b"
             ],
             [
              0.6666666666666666,
              "#ed7953"
             ],
             [
              0.7777777777777778,
              "#fb9f3a"
             ],
             [
              0.8888888888888888,
              "#fdca26"
             ],
             [
              1,
              "#f0f921"
             ]
            ],
            "type": "histogram2d"
           }
          ],
          "histogram2dcontour": [
           {
            "colorbar": {
             "outlinewidth": 0,
             "ticks": ""
            },
            "colorscale": [
             [
              0,
              "#0d0887"
             ],
             [
              0.1111111111111111,
              "#46039f"
             ],
             [
              0.2222222222222222,
              "#7201a8"
             ],
             [
              0.3333333333333333,
              "#9c179e"
             ],
             [
              0.4444444444444444,
              "#bd3786"
             ],
             [
              0.5555555555555556,
              "#d8576b"
             ],
             [
              0.6666666666666666,
              "#ed7953"
             ],
             [
              0.7777777777777778,
              "#fb9f3a"
             ],
             [
              0.8888888888888888,
              "#fdca26"
             ],
             [
              1,
              "#f0f921"
             ]
            ],
            "type": "histogram2dcontour"
           }
          ],
          "mesh3d": [
           {
            "colorbar": {
             "outlinewidth": 0,
             "ticks": ""
            },
            "type": "mesh3d"
           }
          ],
          "parcoords": [
           {
            "line": {
             "colorbar": {
              "outlinewidth": 0,
              "ticks": ""
             }
            },
            "type": "parcoords"
           }
          ],
          "scatter": [
           {
            "marker": {
             "colorbar": {
              "outlinewidth": 0,
              "ticks": ""
             }
            },
            "type": "scatter"
           }
          ],
          "scatter3d": [
           {
            "line": {
             "colorbar": {
              "outlinewidth": 0,
              "ticks": ""
             }
            },
            "marker": {
             "colorbar": {
              "outlinewidth": 0,
              "ticks": ""
             }
            },
            "type": "scatter3d"
           }
          ],
          "scattercarpet": [
           {
            "marker": {
             "colorbar": {
              "outlinewidth": 0,
              "ticks": ""
             }
            },
            "type": "scattercarpet"
           }
          ],
          "scattergeo": [
           {
            "marker": {
             "colorbar": {
              "outlinewidth": 0,
              "ticks": ""
             }
            },
            "type": "scattergeo"
           }
          ],
          "scattergl": [
           {
            "marker": {
             "colorbar": {
              "outlinewidth": 0,
              "ticks": ""
             }
            },
            "type": "scattergl"
           }
          ],
          "scattermapbox": [
           {
            "marker": {
             "colorbar": {
              "outlinewidth": 0,
              "ticks": ""
             }
            },
            "type": "scattermapbox"
           }
          ],
          "scatterpolar": [
           {
            "marker": {
             "colorbar": {
              "outlinewidth": 0,
              "ticks": ""
             }
            },
            "type": "scatterpolar"
           }
          ],
          "scatterpolargl": [
           {
            "marker": {
             "colorbar": {
              "outlinewidth": 0,
              "ticks": ""
             }
            },
            "type": "scatterpolargl"
           }
          ],
          "scatterternary": [
           {
            "marker": {
             "colorbar": {
              "outlinewidth": 0,
              "ticks": ""
             }
            },
            "type": "scatterternary"
           }
          ],
          "surface": [
           {
            "colorbar": {
             "outlinewidth": 0,
             "ticks": ""
            },
            "colorscale": [
             [
              0,
              "#0d0887"
             ],
             [
              0.1111111111111111,
              "#46039f"
             ],
             [
              0.2222222222222222,
              "#7201a8"
             ],
             [
              0.3333333333333333,
              "#9c179e"
             ],
             [
              0.4444444444444444,
              "#bd3786"
             ],
             [
              0.5555555555555556,
              "#d8576b"
             ],
             [
              0.6666666666666666,
              "#ed7953"
             ],
             [
              0.7777777777777778,
              "#fb9f3a"
             ],
             [
              0.8888888888888888,
              "#fdca26"
             ],
             [
              1,
              "#f0f921"
             ]
            ],
            "type": "surface"
           }
          ],
          "table": [
           {
            "cells": {
             "fill": {
              "color": "#EBF0F8"
             },
             "line": {
              "color": "white"
             }
            },
            "header": {
             "fill": {
              "color": "#C8D4E3"
             },
             "line": {
              "color": "white"
             }
            },
            "type": "table"
           }
          ]
         },
         "layout": {
          "annotationdefaults": {
           "arrowcolor": "#2a3f5f",
           "arrowhead": 0,
           "arrowwidth": 1
          },
          "colorscale": {
           "diverging": [
            [
             0,
             "#8e0152"
            ],
            [
             0.1,
             "#c51b7d"
            ],
            [
             0.2,
             "#de77ae"
            ],
            [
             0.3,
             "#f1b6da"
            ],
            [
             0.4,
             "#fde0ef"
            ],
            [
             0.5,
             "#f7f7f7"
            ],
            [
             0.6,
             "#e6f5d0"
            ],
            [
             0.7,
             "#b8e186"
            ],
            [
             0.8,
             "#7fbc41"
            ],
            [
             0.9,
             "#4d9221"
            ],
            [
             1,
             "#276419"
            ]
           ],
           "sequential": [
            [
             0,
             "#0d0887"
            ],
            [
             0.1111111111111111,
             "#46039f"
            ],
            [
             0.2222222222222222,
             "#7201a8"
            ],
            [
             0.3333333333333333,
             "#9c179e"
            ],
            [
             0.4444444444444444,
             "#bd3786"
            ],
            [
             0.5555555555555556,
             "#d8576b"
            ],
            [
             0.6666666666666666,
             "#ed7953"
            ],
            [
             0.7777777777777778,
             "#fb9f3a"
            ],
            [
             0.8888888888888888,
             "#fdca26"
            ],
            [
             1,
             "#f0f921"
            ]
           ],
           "sequentialminus": [
            [
             0,
             "#0d0887"
            ],
            [
             0.1111111111111111,
             "#46039f"
            ],
            [
             0.2222222222222222,
             "#7201a8"
            ],
            [
             0.3333333333333333,
             "#9c179e"
            ],
            [
             0.4444444444444444,
             "#bd3786"
            ],
            [
             0.5555555555555556,
             "#d8576b"
            ],
            [
             0.6666666666666666,
             "#ed7953"
            ],
            [
             0.7777777777777778,
             "#fb9f3a"
            ],
            [
             0.8888888888888888,
             "#fdca26"
            ],
            [
             1,
             "#f0f921"
            ]
           ]
          },
          "colorway": [
           "#636efa",
           "#EF553B",
           "#00cc96",
           "#ab63fa",
           "#FFA15A",
           "#19d3f3",
           "#FF6692",
           "#B6E880",
           "#FF97FF",
           "#FECB52"
          ],
          "font": {
           "color": "#2a3f5f"
          },
          "geo": {
           "bgcolor": "white",
           "lakecolor": "white",
           "landcolor": "#E5ECF6",
           "showlakes": true,
           "showland": true,
           "subunitcolor": "white"
          },
          "hoverlabel": {
           "align": "left"
          },
          "hovermode": "closest",
          "mapbox": {
           "style": "light"
          },
          "paper_bgcolor": "white",
          "plot_bgcolor": "#E5ECF6",
          "polar": {
           "angularaxis": {
            "gridcolor": "white",
            "linecolor": "white",
            "ticks": ""
           },
           "bgcolor": "#E5ECF6",
           "radialaxis": {
            "gridcolor": "white",
            "linecolor": "white",
            "ticks": ""
           }
          },
          "scene": {
           "xaxis": {
            "backgroundcolor": "#E5ECF6",
            "gridcolor": "white",
            "gridwidth": 2,
            "linecolor": "white",
            "showbackground": true,
            "ticks": "",
            "zerolinecolor": "white"
           },
           "yaxis": {
            "backgroundcolor": "#E5ECF6",
            "gridcolor": "white",
            "gridwidth": 2,
            "linecolor": "white",
            "showbackground": true,
            "ticks": "",
            "zerolinecolor": "white"
           },
           "zaxis": {
            "backgroundcolor": "#E5ECF6",
            "gridcolor": "white",
            "gridwidth": 2,
            "linecolor": "white",
            "showbackground": true,
            "ticks": "",
            "zerolinecolor": "white"
           }
          },
          "shapedefaults": {
           "line": {
            "color": "#2a3f5f"
           }
          },
          "ternary": {
           "aaxis": {
            "gridcolor": "white",
            "linecolor": "white",
            "ticks": ""
           },
           "baxis": {
            "gridcolor": "white",
            "linecolor": "white",
            "ticks": ""
           },
           "bgcolor": "#E5ECF6",
           "caxis": {
            "gridcolor": "white",
            "linecolor": "white",
            "ticks": ""
           }
          },
          "title": {
           "x": 0.05
          },
          "xaxis": {
           "automargin": true,
           "gridcolor": "white",
           "linecolor": "white",
           "ticks": "",
           "zerolinecolor": "white",
           "zerolinewidth": 2
          },
          "yaxis": {
           "automargin": true,
           "gridcolor": "white",
           "linecolor": "white",
           "ticks": "",
           "zerolinecolor": "white",
           "zerolinewidth": 2
          }
         }
        },
        "title": {
         "text": "No Shows"
        },
        "xaxis": {
         "title": {
          "text": "Month (Starts at January)"
         }
        },
        "yaxis": {
         "title": {
          "text": "No Show Rate %"
         }
        }
       }
      },
      "text/html": [
       "<div>\n",
       "        \n",
       "        \n",
       "            <div id=\"acfae7c7-810e-4900-a22e-30628cfce59b\" class=\"plotly-graph-div\" style=\"height:525px; width:100%;\"></div>\n",
       "            <script type=\"text/javascript\">\n",
       "                require([\"plotly\"], function(Plotly) {\n",
       "                    window.PLOTLYENV=window.PLOTLYENV || {};\n",
       "                    \n",
       "                if (document.getElementById(\"acfae7c7-810e-4900-a22e-30628cfce59b\")) {\n",
       "                    Plotly.newPlot(\n",
       "                        'acfae7c7-810e-4900-a22e-30628cfce59b',\n",
       "                        [{\"mode\": \"lines+markers\", \"name\": \"Diabetes\", \"text\": [\"Diabetes\", \"Diabetes\", \"Diabetes\", \"Diabetes\", \"Diabetes\", \"Diabetes\", \"Diabetes\", \"Diabetes\"], \"type\": \"scatter\", \"x\": [1, 2, 3, 4, 5, 6, 11, 12], \"y\": [14.285714285714285, 45.45454545454545, 30.5, 26.48037258815702, 16.54901960784314, 10.082493125572869, null, 11.11111111111111]}, {\"mode\": \"lines+markers\", \"name\": \"Alcoholism\", \"text\": [\"Alcoholism\", \"Alcoholism\", \"Alcoholism\", \"Alcoholism\", \"Alcoholism\", \"Alcoholism\", \"Alcoholism\", \"Alcoholism\"], \"type\": \"scatter\", \"x\": [1, 2, 3, 4, 5, 6, 11, 12], \"y\": [66.66666666666666, 0.0, 40.909090909090914, 34.93377483443709, 18.356164383561644, 8.54368932038835, null, null]}, {\"mode\": \"lines+markers\", \"name\": \"Handicap\", \"text\": [\"Handicap\", \"Handicap\", \"Handicap\", \"Handicap\", \"Handicap\", \"Handicap\", \"Handicap\", \"Handicap\"], \"type\": \"scatter\", \"x\": [1, 2, 3, 4, 5, 6, 11, 12], \"y\": [0.0, 40.0, 35.294117647058826, 27.191011235955052, 16.79151061173533, 10.682492581602373, null, 75.0]}, {\"mode\": \"lines+markers\", \"name\": \"HyperTension\", \"text\": [\"HyperTension\", \"HyperTension\", \"HyperTension\", \"HyperTension\", \"HyperTension\", \"HyperTension\", \"HyperTension\", \"HyperTension\"], \"type\": \"scatter\", \"x\": [1, 2, 3, 4, 5, 6, 11, 12], \"y\": [25.806451612903224, 29.88505747126437, 30.605564648117838, 26.063130206049976, 15.33459964932788, 8.871258564731338, null, 34.69387755102041]}],\n",
       "                        {\"hovermode\": \"closest\", \"template\": {\"data\": {\"bar\": [{\"error_x\": {\"color\": \"#2a3f5f\"}, \"error_y\": {\"color\": \"#2a3f5f\"}, \"marker\": {\"line\": {\"color\": \"#E5ECF6\", \"width\": 0.5}}, \"type\": \"bar\"}], \"barpolar\": [{\"marker\": {\"line\": {\"color\": \"#E5ECF6\", \"width\": 0.5}}, \"type\": \"barpolar\"}], \"carpet\": [{\"aaxis\": {\"endlinecolor\": \"#2a3f5f\", \"gridcolor\": \"white\", \"linecolor\": \"white\", \"minorgridcolor\": \"white\", \"startlinecolor\": \"#2a3f5f\"}, \"baxis\": {\"endlinecolor\": \"#2a3f5f\", \"gridcolor\": \"white\", \"linecolor\": \"white\", \"minorgridcolor\": \"white\", \"startlinecolor\": \"#2a3f5f\"}, \"type\": \"carpet\"}], \"choropleth\": [{\"colorbar\": {\"outlinewidth\": 0, \"ticks\": \"\"}, \"type\": \"choropleth\"}], \"contour\": [{\"colorbar\": {\"outlinewidth\": 0, \"ticks\": \"\"}, \"colorscale\": [[0.0, \"#0d0887\"], [0.1111111111111111, \"#46039f\"], [0.2222222222222222, \"#7201a8\"], [0.3333333333333333, \"#9c179e\"], [0.4444444444444444, \"#bd3786\"], [0.5555555555555556, \"#d8576b\"], [0.6666666666666666, \"#ed7953\"], [0.7777777777777778, \"#fb9f3a\"], [0.8888888888888888, \"#fdca26\"], [1.0, \"#f0f921\"]], \"type\": \"contour\"}], \"contourcarpet\": [{\"colorbar\": {\"outlinewidth\": 0, \"ticks\": \"\"}, \"type\": \"contourcarpet\"}], \"heatmap\": [{\"colorbar\": {\"outlinewidth\": 0, \"ticks\": \"\"}, \"colorscale\": [[0.0, \"#0d0887\"], [0.1111111111111111, \"#46039f\"], [0.2222222222222222, \"#7201a8\"], [0.3333333333333333, \"#9c179e\"], [0.4444444444444444, \"#bd3786\"], [0.5555555555555556, \"#d8576b\"], [0.6666666666666666, \"#ed7953\"], [0.7777777777777778, \"#fb9f3a\"], [0.8888888888888888, \"#fdca26\"], [1.0, \"#f0f921\"]], \"type\": \"heatmap\"}], \"heatmapgl\": [{\"colorbar\": {\"outlinewidth\": 0, \"ticks\": \"\"}, \"colorscale\": [[0.0, \"#0d0887\"], [0.1111111111111111, \"#46039f\"], [0.2222222222222222, \"#7201a8\"], [0.3333333333333333, \"#9c179e\"], [0.4444444444444444, \"#bd3786\"], [0.5555555555555556, \"#d8576b\"], [0.6666666666666666, \"#ed7953\"], [0.7777777777777778, \"#fb9f3a\"], [0.8888888888888888, \"#fdca26\"], [1.0, \"#f0f921\"]], \"type\": \"heatmapgl\"}], \"histogram\": [{\"marker\": {\"colorbar\": {\"outlinewidth\": 0, \"ticks\": \"\"}}, \"type\": \"histogram\"}], \"histogram2d\": [{\"colorbar\": {\"outlinewidth\": 0, \"ticks\": \"\"}, \"colorscale\": [[0.0, \"#0d0887\"], [0.1111111111111111, \"#46039f\"], [0.2222222222222222, \"#7201a8\"], [0.3333333333333333, \"#9c179e\"], [0.4444444444444444, \"#bd3786\"], [0.5555555555555556, \"#d8576b\"], [0.6666666666666666, \"#ed7953\"], [0.7777777777777778, \"#fb9f3a\"], [0.8888888888888888, \"#fdca26\"], [1.0, \"#f0f921\"]], \"type\": \"histogram2d\"}], \"histogram2dcontour\": [{\"colorbar\": {\"outlinewidth\": 0, \"ticks\": \"\"}, \"colorscale\": [[0.0, \"#0d0887\"], [0.1111111111111111, \"#46039f\"], [0.2222222222222222, \"#7201a8\"], [0.3333333333333333, \"#9c179e\"], [0.4444444444444444, \"#bd3786\"], [0.5555555555555556, \"#d8576b\"], [0.6666666666666666, \"#ed7953\"], [0.7777777777777778, \"#fb9f3a\"], [0.8888888888888888, \"#fdca26\"], [1.0, \"#f0f921\"]], \"type\": \"histogram2dcontour\"}], \"mesh3d\": [{\"colorbar\": {\"outlinewidth\": 0, \"ticks\": \"\"}, \"type\": \"mesh3d\"}], \"parcoords\": [{\"line\": {\"colorbar\": {\"outlinewidth\": 0, \"ticks\": \"\"}}, \"type\": \"parcoords\"}], \"scatter\": [{\"marker\": {\"colorbar\": {\"outlinewidth\": 0, \"ticks\": \"\"}}, \"type\": \"scatter\"}], \"scatter3d\": [{\"line\": {\"colorbar\": {\"outlinewidth\": 0, \"ticks\": \"\"}}, \"marker\": {\"colorbar\": {\"outlinewidth\": 0, \"ticks\": \"\"}}, \"type\": \"scatter3d\"}], \"scattercarpet\": [{\"marker\": {\"colorbar\": {\"outlinewidth\": 0, \"ticks\": \"\"}}, \"type\": \"scattercarpet\"}], \"scattergeo\": [{\"marker\": {\"colorbar\": {\"outlinewidth\": 0, \"ticks\": \"\"}}, \"type\": \"scattergeo\"}], \"scattergl\": [{\"marker\": {\"colorbar\": {\"outlinewidth\": 0, \"ticks\": \"\"}}, \"type\": \"scattergl\"}], \"scattermapbox\": [{\"marker\": {\"colorbar\": {\"outlinewidth\": 0, \"ticks\": \"\"}}, \"type\": \"scattermapbox\"}], \"scatterpolar\": [{\"marker\": {\"colorbar\": {\"outlinewidth\": 0, \"ticks\": \"\"}}, \"type\": \"scatterpolar\"}], \"scatterpolargl\": [{\"marker\": {\"colorbar\": {\"outlinewidth\": 0, \"ticks\": \"\"}}, \"type\": \"scatterpolargl\"}], \"scatterternary\": [{\"marker\": {\"colorbar\": {\"outlinewidth\": 0, \"ticks\": \"\"}}, \"type\": \"scatterternary\"}], \"surface\": [{\"colorbar\": {\"outlinewidth\": 0, \"ticks\": \"\"}, \"colorscale\": [[0.0, \"#0d0887\"], [0.1111111111111111, \"#46039f\"], [0.2222222222222222, \"#7201a8\"], [0.3333333333333333, \"#9c179e\"], [0.4444444444444444, \"#bd3786\"], [0.5555555555555556, \"#d8576b\"], [0.6666666666666666, \"#ed7953\"], [0.7777777777777778, \"#fb9f3a\"], [0.8888888888888888, \"#fdca26\"], [1.0, \"#f0f921\"]], \"type\": \"surface\"}], \"table\": [{\"cells\": {\"fill\": {\"color\": \"#EBF0F8\"}, \"line\": {\"color\": \"white\"}}, \"header\": {\"fill\": {\"color\": \"#C8D4E3\"}, \"line\": {\"color\": \"white\"}}, \"type\": \"table\"}]}, \"layout\": {\"annotationdefaults\": {\"arrowcolor\": \"#2a3f5f\", \"arrowhead\": 0, \"arrowwidth\": 1}, \"colorscale\": {\"diverging\": [[0, \"#8e0152\"], [0.1, \"#c51b7d\"], [0.2, \"#de77ae\"], [0.3, \"#f1b6da\"], [0.4, \"#fde0ef\"], [0.5, \"#f7f7f7\"], [0.6, \"#e6f5d0\"], [0.7, \"#b8e186\"], [0.8, \"#7fbc41\"], [0.9, \"#4d9221\"], [1, \"#276419\"]], \"sequential\": [[0.0, \"#0d0887\"], [0.1111111111111111, \"#46039f\"], [0.2222222222222222, \"#7201a8\"], [0.3333333333333333, \"#9c179e\"], [0.4444444444444444, \"#bd3786\"], [0.5555555555555556, \"#d8576b\"], [0.6666666666666666, \"#ed7953\"], [0.7777777777777778, \"#fb9f3a\"], [0.8888888888888888, \"#fdca26\"], [1.0, \"#f0f921\"]], \"sequentialminus\": [[0.0, \"#0d0887\"], [0.1111111111111111, \"#46039f\"], [0.2222222222222222, \"#7201a8\"], [0.3333333333333333, \"#9c179e\"], [0.4444444444444444, \"#bd3786\"], [0.5555555555555556, \"#d8576b\"], [0.6666666666666666, \"#ed7953\"], [0.7777777777777778, \"#fb9f3a\"], [0.8888888888888888, \"#fdca26\"], [1.0, \"#f0f921\"]]}, \"colorway\": [\"#636efa\", \"#EF553B\", \"#00cc96\", \"#ab63fa\", \"#FFA15A\", \"#19d3f3\", \"#FF6692\", \"#B6E880\", \"#FF97FF\", \"#FECB52\"], \"font\": {\"color\": \"#2a3f5f\"}, \"geo\": {\"bgcolor\": \"white\", \"lakecolor\": \"white\", \"landcolor\": \"#E5ECF6\", \"showlakes\": true, \"showland\": true, \"subunitcolor\": \"white\"}, \"hoverlabel\": {\"align\": \"left\"}, \"hovermode\": \"closest\", \"mapbox\": {\"style\": \"light\"}, \"paper_bgcolor\": \"white\", \"plot_bgcolor\": \"#E5ECF6\", \"polar\": {\"angularaxis\": {\"gridcolor\": \"white\", \"linecolor\": \"white\", \"ticks\": \"\"}, \"bgcolor\": \"#E5ECF6\", \"radialaxis\": {\"gridcolor\": \"white\", \"linecolor\": \"white\", \"ticks\": \"\"}}, \"scene\": {\"xaxis\": {\"backgroundcolor\": \"#E5ECF6\", \"gridcolor\": \"white\", \"gridwidth\": 2, \"linecolor\": \"white\", \"showbackground\": true, \"ticks\": \"\", \"zerolinecolor\": \"white\"}, \"yaxis\": {\"backgroundcolor\": \"#E5ECF6\", \"gridcolor\": \"white\", \"gridwidth\": 2, \"linecolor\": \"white\", \"showbackground\": true, \"ticks\": \"\", \"zerolinecolor\": \"white\"}, \"zaxis\": {\"backgroundcolor\": \"#E5ECF6\", \"gridcolor\": \"white\", \"gridwidth\": 2, \"linecolor\": \"white\", \"showbackground\": true, \"ticks\": \"\", \"zerolinecolor\": \"white\"}}, \"shapedefaults\": {\"line\": {\"color\": \"#2a3f5f\"}}, \"ternary\": {\"aaxis\": {\"gridcolor\": \"white\", \"linecolor\": \"white\", \"ticks\": \"\"}, \"baxis\": {\"gridcolor\": \"white\", \"linecolor\": \"white\", \"ticks\": \"\"}, \"bgcolor\": \"#E5ECF6\", \"caxis\": {\"gridcolor\": \"white\", \"linecolor\": \"white\", \"ticks\": \"\"}}, \"title\": {\"x\": 0.05}, \"xaxis\": {\"automargin\": true, \"gridcolor\": \"white\", \"linecolor\": \"white\", \"ticks\": \"\", \"zerolinecolor\": \"white\", \"zerolinewidth\": 2}, \"yaxis\": {\"automargin\": true, \"gridcolor\": \"white\", \"linecolor\": \"white\", \"ticks\": \"\", \"zerolinecolor\": \"white\", \"zerolinewidth\": 2}}}, \"title\": {\"text\": \"No Shows\"}, \"xaxis\": {\"title\": {\"text\": \"Month (Starts at January)\"}}, \"yaxis\": {\"title\": {\"text\": \"No Show Rate %\"}}},\n",
       "                        {\"responsive\": true}\n",
       "                    ).then(function(){\n",
       "                            \n",
       "var gd = document.getElementById('acfae7c7-810e-4900-a22e-30628cfce59b');\n",
       "var x = new MutationObserver(function (mutations, observer) {{\n",
       "        var display = window.getComputedStyle(gd).display;\n",
       "        if (!display || display === 'none') {{\n",
       "            console.log([gd, 'removed!']);\n",
       "            Plotly.purge(gd);\n",
       "            observer.disconnect();\n",
       "        }}\n",
       "}});\n",
       "\n",
       "// Listen for the removal of the full notebook cells\n",
       "var notebookContainer = gd.closest('#notebook-container');\n",
       "if (notebookContainer) {{\n",
       "    x.observe(notebookContainer, {childList: true});\n",
       "}}\n",
       "\n",
       "// Listen for the clearing of the current output cell\n",
       "var outputEl = gd.closest('.output');\n",
       "if (outputEl) {{\n",
       "    x.observe(outputEl, {childList: true});\n",
       "}}\n",
       "\n",
       "                        })\n",
       "                };\n",
       "                });\n",
       "            </script>\n",
       "        </div>"
      ]
     },
     "metadata": {},
     "output_type": "display_data"
    }
   ],
   "source": [
    "## lets generate the line graph to visualize the trend\n",
    "\n",
    "Diabetes = rate[rate['Desiase'] == 'Diabetes']\n",
    "Alcoholism = rate[rate['Desiase'] == 'Alcoholism']\n",
    "Handicap = rate[rate['Desiase'] == 'Handicap']\n",
    "Hyper = rate[rate['Desiase'] == 'HyperTension']\n",
    "\n",
    "trace = go.Scatter(\n",
    "    x= Diabetes['Month Number'],\n",
    "    y=Diabetes['No-show Rate']*100,\n",
    "    mode= 'lines+markers',\n",
    "    text=Diabetes['Desiase'],\n",
    "    name=\"Diabetes\")\n",
    "\n",
    "trace2 = go.Scatter(\n",
    "    x= Alcoholism['Month Number'],\n",
    "    y=Alcoholism['No-show Rate']*100,\n",
    "    mode= 'lines+markers',\n",
    "    text=Alcoholism['Desiase'],\n",
    "    name=\"Alcoholism\")\n",
    "\n",
    "trace3 = go.Scatter(\n",
    "    x= Handicap['Month Number'],\n",
    "    y=Handicap['No-show Rate']*100,\n",
    "    mode= 'lines+markers',\n",
    "    text=Handicap['Desiase'],\n",
    "    name='Handicap')\n",
    "\n",
    "trace4 = go.Scatter(\n",
    "    x= Hyper['Month Number'],\n",
    "    y=Hyper['No-show Rate']*100,\n",
    "    mode= 'lines+markers',\n",
    "    text=Hyper['Desiase'],\n",
    "    name='HyperTension')\n",
    "\n",
    "\n",
    "layout = dict(title = \"No Shows\",hovermode='closest',xaxis=dict({\"title\":\"Month (Starts at January)\"}),\n",
    "             yaxis=dict({\"title\":\"No Show Rate %\"}))\n",
    "dat = [trace,trace2,trace3,trace4]\n",
    "fig = go.Figure(data=dat,layout=layout)\n",
    "iplot(fig,filename='basic-line')"
   ]
  },
  {
   "cell_type": "markdown",
   "metadata": {},
   "source": [
    "As per the data avilable, \n",
    "1. the graph shows that the Alcoholism has the highest no show rate.\n",
    "2. Sharp rise in no show rate in 2nd month, except alcoholism.\n",
    "3. First 3 Summer months have highest no show rate.\n",
    "4. Data not avilable for whole year.\n"
   ]
  },
  {
   "cell_type": "markdown",
   "metadata": {},
   "source": [
    "## 6. Now lets check no show rate based on Age Group"
   ]
  },
  {
   "cell_type": "code",
   "execution_count": 18,
   "metadata": {},
   "outputs": [],
   "source": [
    "\n",
    "df2 = noshow.pivot_table(values=[\"HyperTension\",\"Diabetes\",\"Alcoholism\",\"Handicap\"],\n",
    "                          columns=[\"No-show\"],index=[\"Month Number\",'AgeGroup'],aggfunc=np.sum)\n",
    "\n",
    "\n",
    "rate2 = df2.unstack().unstack('AgeGroup').unstack('No-show').reset_index().rename(columns={\"level_0\":\"Desiase\"})\n",
    "\n",
    "rate2['No Show Rate'] = rate2['Yes'] / (rate2['Yes'] + rate2['No'])\n",
    "rate2['Total'] = rate2['Yes'] + rate2['No']"
   ]
  },
  {
   "cell_type": "code",
   "execution_count": 19,
   "metadata": {},
   "outputs": [
    {
     "data": {
      "text/html": [
       "<div>\n",
       "<style scoped>\n",
       "    .dataframe tbody tr th:only-of-type {\n",
       "        vertical-align: middle;\n",
       "    }\n",
       "\n",
       "    .dataframe tbody tr th {\n",
       "        vertical-align: top;\n",
       "    }\n",
       "\n",
       "    .dataframe thead th {\n",
       "        text-align: right;\n",
       "    }\n",
       "</style>\n",
       "<table border=\"1\" class=\"dataframe\">\n",
       "  <thead>\n",
       "    <tr style=\"text-align: right;\">\n",
       "      <th></th>\n",
       "      <th>No-show</th>\n",
       "      <th>Yes</th>\n",
       "      <th>No</th>\n",
       "      <th>Total</th>\n",
       "    </tr>\n",
       "    <tr>\n",
       "      <th>AgeGroup</th>\n",
       "      <th>Desiase</th>\n",
       "      <th></th>\n",
       "      <th></th>\n",
       "      <th></th>\n",
       "    </tr>\n",
       "  </thead>\n",
       "  <tbody>\n",
       "    <tr>\n",
       "      <th rowspan=\"4\" valign=\"top\">65+</th>\n",
       "      <th>Alcoholism</th>\n",
       "      <td>58.0</td>\n",
       "      <td>296.0</td>\n",
       "      <td>354.0</td>\n",
       "    </tr>\n",
       "    <tr>\n",
       "      <th>Diabetes</th>\n",
       "      <td>577.0</td>\n",
       "      <td>2786.0</td>\n",
       "      <td>3363.0</td>\n",
       "    </tr>\n",
       "    <tr>\n",
       "      <th>Handicap</th>\n",
       "      <td>133.0</td>\n",
       "      <td>585.0</td>\n",
       "      <td>718.0</td>\n",
       "    </tr>\n",
       "    <tr>\n",
       "      <th>HyperTension</th>\n",
       "      <td>1370.0</td>\n",
       "      <td>7167.0</td>\n",
       "      <td>8537.0</td>\n",
       "    </tr>\n",
       "    <tr>\n",
       "      <th rowspan=\"4\" valign=\"top\">Adult(18-35)</th>\n",
       "      <th>Alcoholism</th>\n",
       "      <td>116.0</td>\n",
       "      <td>332.0</td>\n",
       "      <td>448.0</td>\n",
       "    </tr>\n",
       "    <tr>\n",
       "      <th>Diabetes</th>\n",
       "      <td>62.0</td>\n",
       "      <td>164.0</td>\n",
       "      <td>226.0</td>\n",
       "    </tr>\n",
       "    <tr>\n",
       "      <th>Handicap</th>\n",
       "      <td>73.0</td>\n",
       "      <td>351.0</td>\n",
       "      <td>424.0</td>\n",
       "    </tr>\n",
       "    <tr>\n",
       "      <th>HyperTension</th>\n",
       "      <td>171.0</td>\n",
       "      <td>639.0</td>\n",
       "      <td>810.0</td>\n",
       "    </tr>\n",
       "    <tr>\n",
       "      <th rowspan=\"4\" valign=\"top\">Older(36-64)</th>\n",
       "      <th>Alcoholism</th>\n",
       "      <td>491.0</td>\n",
       "      <td>2043.0</td>\n",
       "      <td>2534.0</td>\n",
       "    </tr>\n",
       "    <tr>\n",
       "      <th>Diabetes</th>\n",
       "      <td>775.0</td>\n",
       "      <td>3528.0</td>\n",
       "      <td>4303.0</td>\n",
       "    </tr>\n",
       "    <tr>\n",
       "      <th>Handicap</th>\n",
       "      <td>163.0</td>\n",
       "      <td>868.0</td>\n",
       "      <td>1031.0</td>\n",
       "    </tr>\n",
       "    <tr>\n",
       "      <th>HyperTension</th>\n",
       "      <td>2218.0</td>\n",
       "      <td>10198.0</td>\n",
       "      <td>12416.0</td>\n",
       "    </tr>\n",
       "    <tr>\n",
       "      <th rowspan=\"4\" valign=\"top\">Young &lt;18</th>\n",
       "      <th>Alcoholism</th>\n",
       "      <td>12.0</td>\n",
       "      <td>12.0</td>\n",
       "      <td>24.0</td>\n",
       "    </tr>\n",
       "    <tr>\n",
       "      <th>Diabetes</th>\n",
       "      <td>16.0</td>\n",
       "      <td>35.0</td>\n",
       "      <td>51.0</td>\n",
       "    </tr>\n",
       "    <tr>\n",
       "      <th>Handicap</th>\n",
       "      <td>84.0</td>\n",
       "      <td>201.0</td>\n",
       "      <td>285.0</td>\n",
       "    </tr>\n",
       "    <tr>\n",
       "      <th>HyperTension</th>\n",
       "      <td>13.0</td>\n",
       "      <td>25.0</td>\n",
       "      <td>38.0</td>\n",
       "    </tr>\n",
       "  </tbody>\n",
       "</table>\n",
       "</div>"
      ],
      "text/plain": [
       "No-show                       Yes       No    Total\n",
       "AgeGroup     Desiase                               \n",
       "65+          Alcoholism      58.0    296.0    354.0\n",
       "             Diabetes       577.0   2786.0   3363.0\n",
       "             Handicap       133.0    585.0    718.0\n",
       "             HyperTension  1370.0   7167.0   8537.0\n",
       "Adult(18-35) Alcoholism     116.0    332.0    448.0\n",
       "             Diabetes        62.0    164.0    226.0\n",
       "             Handicap        73.0    351.0    424.0\n",
       "             HyperTension   171.0    639.0    810.0\n",
       "Older(36-64) Alcoholism     491.0   2043.0   2534.0\n",
       "             Diabetes       775.0   3528.0   4303.0\n",
       "             Handicap       163.0    868.0   1031.0\n",
       "             HyperTension  2218.0  10198.0  12416.0\n",
       "Young <18    Alcoholism      12.0     12.0     24.0\n",
       "             Diabetes        16.0     35.0     51.0\n",
       "             Handicap        84.0    201.0    285.0\n",
       "             HyperTension    13.0     25.0     38.0"
      ]
     },
     "execution_count": 19,
     "metadata": {},
     "output_type": "execute_result"
    }
   ],
   "source": [
    "rate2.groupby(['AgeGroup','Desiase'])['Yes','No','Total'].sum()"
   ]
  },
  {
   "cell_type": "markdown",
   "metadata": {},
   "source": [
    "The above dataset shows that \n",
    "    1.  the most prevelent desiase found in all age group is Hypertension. However, the line graph above shows that HyperTension paitents have low No-show rate compare to all other desiases.\n",
    "    2.  Young age group has highest no show rate\n",
    "\n",
    "\n",
    "Lets, draw a heatmap Graph to visualize the No-show Rate based on age groupb as shown in above dataset.\n"
   ]
  },
  {
   "cell_type": "code",
   "execution_count": 20,
   "metadata": {},
   "outputs": [
    {
     "data": {
      "image/png": "[encoded data removed]",
      "text/plain": [
       "<Figure size 864x432 with 8 Axes>"
      ]
     },
     "metadata": {},
     "output_type": "display_data"
    }
   ],
   "source": [
    "fig = plot.figure(figsize=(12,6))\n",
    "ax = fig.add_subplot(221)\n",
    "sns.heatmap(rate2[rate2['Desiase'] == 'Alcoholism'].pivot_table(values=\"No Show Rate\",index=\"AgeGroup\",columns='Month Number'),\n",
    "           cmap='viridis',annot=True)\n",
    "ax.set_title('No-Show Rate---Alcohol')\n",
    "\n",
    "ax2 = fig.add_subplot(222)\n",
    "sns.heatmap(rate2[rate2['Desiase'] == 'Diabetes'].pivot_table(values=\"No Show Rate\",index=\"AgeGroup\",columns='Month Number'),\n",
    "           cmap='viridis',annot=True)\n",
    "ax2.set_title('No Show Rate---Diabetes')\n",
    "\n",
    "ax3 = fig.add_subplot(223)\n",
    "sns.heatmap(rate2[rate2['Desiase'] == 'Handicap'].pivot_table(values=\"No Show Rate\",index=\"AgeGroup\",columns='Month Number'),\n",
    "           cmap='viridis',annot=True)\n",
    "ax3.set_title('No-Show Rate---Handicap')\n",
    "\n",
    "ax4 = fig.add_subplot(224)\n",
    "sns.heatmap(rate2[rate2['Desiase'] == 'HyperTension'].pivot_table(values=\"No Show Rate\",index=\"AgeGroup\",columns='Month Number'),\n",
    "           cmap='viridis',annot=True)\n",
    "ax4.set_title('No Show Rate---HyperTension')\n",
    "\n",
    "plot.tight_layout()\n",
    "plot.show()"
   ]
  },
  {
   "cell_type": "markdown",
   "metadata": {},
   "source": [
    "## 7. Now lets check the effect of gender on No Show Rate"
   ]
  },
  {
   "cell_type": "code",
   "execution_count": 21,
   "metadata": {},
   "outputs": [
    {
     "data": {
      "text/html": [
       "<div>\n",
       "<style scoped>\n",
       "    .dataframe tbody tr th:only-of-type {\n",
       "        vertical-align: middle;\n",
       "    }\n",
       "\n",
       "    .dataframe tbody tr th {\n",
       "        vertical-align: top;\n",
       "    }\n",
       "\n",
       "    .dataframe thead th {\n",
       "        text-align: right;\n",
       "    }\n",
       "</style>\n",
       "<table border=\"1\" class=\"dataframe\">\n",
       "  <thead>\n",
       "    <tr style=\"text-align: right;\">\n",
       "      <th>No-show</th>\n",
       "      <th>Desiase</th>\n",
       "      <th>Gender</th>\n",
       "      <th>AgeGroup</th>\n",
       "      <th>Month Number</th>\n",
       "      <th>No</th>\n",
       "      <th>Yes</th>\n",
       "      <th>Total</th>\n",
       "      <th>No Show Rate</th>\n",
       "    </tr>\n",
       "  </thead>\n",
       "  <tbody>\n",
       "    <tr>\n",
       "      <th>0</th>\n",
       "      <td>Alcoholism</td>\n",
       "      <td>F</td>\n",
       "      <td>65+</td>\n",
       "      <td>1</td>\n",
       "      <td>0.0</td>\n",
       "      <td>0.0</td>\n",
       "      <td>0.0</td>\n",
       "      <td>0.000000</td>\n",
       "    </tr>\n",
       "    <tr>\n",
       "      <th>1</th>\n",
       "      <td>Alcoholism</td>\n",
       "      <td>F</td>\n",
       "      <td>65+</td>\n",
       "      <td>2</td>\n",
       "      <td>0.0</td>\n",
       "      <td>0.0</td>\n",
       "      <td>0.0</td>\n",
       "      <td>0.000000</td>\n",
       "    </tr>\n",
       "    <tr>\n",
       "      <th>2</th>\n",
       "      <td>Alcoholism</td>\n",
       "      <td>F</td>\n",
       "      <td>65+</td>\n",
       "      <td>3</td>\n",
       "      <td>1.0</td>\n",
       "      <td>0.0</td>\n",
       "      <td>1.0</td>\n",
       "      <td>0.000000</td>\n",
       "    </tr>\n",
       "    <tr>\n",
       "      <th>3</th>\n",
       "      <td>Alcoholism</td>\n",
       "      <td>F</td>\n",
       "      <td>65+</td>\n",
       "      <td>4</td>\n",
       "      <td>9.0</td>\n",
       "      <td>5.0</td>\n",
       "      <td>14.0</td>\n",
       "      <td>0.357143</td>\n",
       "    </tr>\n",
       "    <tr>\n",
       "      <th>4</th>\n",
       "      <td>Alcoholism</td>\n",
       "      <td>F</td>\n",
       "      <td>65+</td>\n",
       "      <td>5</td>\n",
       "      <td>31.0</td>\n",
       "      <td>13.0</td>\n",
       "      <td>44.0</td>\n",
       "      <td>0.295455</td>\n",
       "    </tr>\n",
       "  </tbody>\n",
       "</table>\n",
       "</div>"
      ],
      "text/plain": [
       "No-show     Desiase Gender AgeGroup  Month Number    No   Yes  Total  \\\n",
       "0        Alcoholism      F      65+             1   0.0   0.0    0.0   \n",
       "1        Alcoholism      F      65+             2   0.0   0.0    0.0   \n",
       "2        Alcoholism      F      65+             3   1.0   0.0    1.0   \n",
       "3        Alcoholism      F      65+             4   9.0   5.0   14.0   \n",
       "4        Alcoholism      F      65+             5  31.0  13.0   44.0   \n",
       "\n",
       "No-show  No Show Rate  \n",
       "0            0.000000  \n",
       "1            0.000000  \n",
       "2            0.000000  \n",
       "3            0.357143  \n",
       "4            0.295455  "
      ]
     },
     "execution_count": 21,
     "metadata": {},
     "output_type": "execute_result"
    }
   ],
   "source": [
    "\n",
    "df3 = noshow.pivot_table(values=[\"HyperTension\",\"Diabetes\",\"Alcoholism\",\"Handicap\"],\n",
    "                          columns=[\"No-show\",'Gender','AgeGroup'],index=\"Month Number\",aggfunc=np.sum)\n",
    "gender = df3.unstack().unstack('No-show').reset_index().rename(columns={\"level_0\":\"Desiase\"})\n",
    "gender['Total'] = gender['Yes'] + gender['No']\n",
    "gender['No Show Rate'] = gender['Yes'] / gender['Total']\n",
    "gender['No Show Rate']= gender ['No Show Rate'].fillna(0)\n",
    "gender.head()"
   ]
  },
  {
   "cell_type": "markdown",
   "metadata": {},
   "source": [
    "Here, we can see that for some month the data is not avilable."
   ]
  },
  {
   "cell_type": "code",
   "execution_count": 22,
   "metadata": {},
   "outputs": [
    {
     "data": {
      "text/plain": [
       "Text(0, 0.5, 'No-Show Average')"
      ]
     },
     "execution_count": 22,
     "metadata": {},
     "output_type": "execute_result"
    },
    {
     "data": {
      "image/png": "[encoded data removed]",
      "text/plain": [
       "<Figure size 576x504 with 1 Axes>"
      ]
     },
     "metadata": {},
     "output_type": "display_data"
    }
   ],
   "source": [
    "## Lets draw the graph\n",
    "Gd = gender[(gender['AgeGroup'] != 'Less than 18')]\n",
    "figure = plot.figure(figsize=(8,7))\n",
    "ax = figure.add_axes([0,0,1,1])\n",
    "sns.barplot(x=\"Desiase\",y=\"No Show Rate\",hue='Gender',data=Gd,estimator=np.mean,palette={'r','b'})\n",
    "ax.set_title(\"Gender No-Shows\")\n",
    "ax.set_ylabel(\"No-Show Average\")"
   ]
  },
  {
   "cell_type": "markdown",
   "metadata": {},
   "source": [
    "We can see here that male patients have the highest No Show rate mainly in HyperTension and Diabetes category. We can also say from the plot that women try to hide their Alcoholism. However, there is no major difference between the no show rate of Male and female.\n"
   ]
  },
  {
   "cell_type": "markdown",
   "metadata": {},
   "source": [
    "### Conclusion\n",
    "\n",
    "From above analysis we can conclude that Plots based on the data available to us we tried to generate some analysis of the data.\n",
    "\n",
    "1.\tHighest No Show rate is on Tuesday. However, highest number of people prefer go to doctor on this day and later. Lowest is on Saturday which seems like they don’t want to west their weekend visiting hospitals. Also, instead of Monday, Tuesday have highest count to go to hospital can also be analysed as people do not want some bad news on the very first day of the week.\n",
    "\n",
    "2.\tPeople not prefer to go to hospitals in summer. The alcoholic people mainly in the younger and older age group have the highest No Show rate around 35% and is always high in almost all months as seen from our line graph. The line graph shows Zero rate for Second month for Alcoholic people would be because of skewed data.\n",
    "\n",
    "3.\tHyperTension is the most prevalent disease in our dataset. However, the No Show rate of these patients are lower than other patients almost every time.\n",
    "\n",
    "4.\tWe can see here that male patients have the highest No Show rate mainly in HyperTension and Diabetes category. We can also say from the plot that women try to hide their Alcoholism. However, there is no major difference between the no show rate of Male and female.\n"
   ]
  }
 ],
 "metadata": {
  "kernelspec": {
   "display_name": "Python 3",
   "language": "python",
   "name": "python3"
  },
  "language_info": {
   "codemirror_mode": {
    "name": "ipython",
    "version": 3
   },
   "file_extension": ".py",
   "mimetype": "text/x-python",
   "name": "python",
   "nbconvert_exporter": "python",
   "pygments_lexer": "ipython3",
   "version": "3.7.3"
  }
 },
 "nbformat": 4,
 "nbformat_minor": 2
}
